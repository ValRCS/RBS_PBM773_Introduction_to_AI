{
 "cells": [
  {
   "cell_type": "markdown",
   "metadata": {},
   "source": [
    "# Chapter 11 - Automated Planning\n",
    "\n",
    "*In which we see how an agent can take advantage of the structure of a problem to efficiently\n",
    "construct complex plans of action.* - Artificial Intelligence: A Modern Approach 4th Edition by Stuart Russell and Peter Norvig"
   ]
  },
  {
   "cell_type": "markdown",
   "metadata": {},
   "source": [
    "## Introduction \n",
    "\n",
    "- The introduction to Chapter 11 of \"Artificial Intelligence: A Modern Approach\" outlines the significance of automated planning for intelligent agents. \n",
    "### Key concepts and terms  \n",
    "- **Planning problems:**  Planning involves constructing complex plans of action by understanding the problem's structure. \n",
    "- **Representation language:**  A general factored representation language for planning is introduced, designed to succinctly represent a wide variety of domains, scale efficiently to large problems, and eliminate the need for domain-specific heuristics. \n",
    "- **Hierarchical actions:**  Section 11.4 discusses extending the representation language to include hierarchical actions, enhancing the ability to solve more complex problems. \n",
    "- **Efficient algorithms:**  Covered in Section 11.2, these algorithms are crucial for planning. \n",
    "- **Heuristics:**  Discussed in Section 11.3, heuristics are essential for the efficiency of planning algorithms. \n",
    "- **Partially observable and nondeterministic domains:**  Section 11.5 addresses planning in environments where not all variables are fully observable or actions have nondeterministic outcomes. \n",
    "- **Scheduling with resource constraints:**  Section 11.6 extends the planning language to tackle scheduling issues, focusing on optimizing the allocation of limited resources. \n",
    "- **Real-world applications:**  The chapter emphasizes the relevance of these planning techniques in real-world scenarios, such as spacecraft operations, factory management, and military campaigns, highlighting the practical importance of advanced planning and scheduling capabilities."
   ]
  },
  {
   "cell_type": "markdown",
   "metadata": {},
   "source": [
    "### 11.1 Definition of Classical Planning\n",
    "- **Classical planning**  is the task of finding a sequence of actions to achieve a goal within a discrete, deterministic, static, fully observable environment. This form of planning contrasts with non-classical domains that may involve uncertainty, dynamic changes, or partial observability. \n",
    "- Previous approaches, including the **problem-solving agent**  and the **hybrid propositional logical agent** , faced limitations due to the need for domain-specific heuristics and the challenge of representing exponentially large state spaces. \n",
    "- The **Planning Domain Definition Language (PDDL)**  was introduced to address these limitations, providing a factored representation that simplifies the expression of actions and states across various domains without requiring domain-specific knowledge. PDDL supports classical planning domains and has been extended to accommodate non-classical domains. \n",
    "\n",
    "PDDL: https://en.wikipedia.org/wiki/Planning_Domain_Definition_Language\n",
    "\n",
    "Conferences using PDDL: https://www.icaps-conference.org/\n",
    "2023 competition track: https://ipc2023-learning.github.io/\n",
    "\n",
    "- A **state**  in PDDL is described as a conjunction of ground atomic fluents, representing aspects of the world that can change over time. The language adopts database semantics, including the closed-world assumption (unmentioned fluents are false) and the unique names assumption (distinct entities are assumed to be different). \n",
    "- **Action schemas**  in PDDL represent families of ground actions with specified preconditions and effects, allowing for the concise definition of actions that can be applied across different instances within a domain. These schemas enable the planning system to generate sequences of actions (plans) to achieve specific goals. \n",
    "- The execution of an action in a state results in a new state, defined by adding and removing fluents according to the action's effects. This mechanism allows for the dynamic modeling of the world's state as actions are applied. \n",
    "- The **initial state**  and **goal**  of a planning problem are defined within the PDDL framework, with the initial state specified as a conjunction of ground fluents and the goal as a conjunction of literals that may include positive and negative conditions. \n",
    "- PDDL's introduction and use in classical planning signify a significant advancement in the field of automated planning, enabling more efficient and flexible planning solutions in a variety of domains."
   ]
  },
  {
   "cell_type": "markdown",
   "metadata": {},
   "source": [
    "<img src=\"https://raw.githubusercontent.com/ValRCS/RBS_PBM773_Introduction_to_AI/main/img/ch11_automated_planning/DALL%C2%B7E%202024-02-11%2020.16.59%20-%20Create%20an%20illustration%20depicting%20an%20air%20cargo%20transport%20problem%2C%20focusing%20on%20the%20activities%20of%20loading%20and%20unloading%20cargo%2C%20and%20flying%20it%20from%20one%20pla.webp\" width=\"400\">"
   ]
  },
  {
   "cell_type": "markdown",
   "metadata": {},
   "source": [
    "#### 11.1.1 Example Domain: Air Cargo Transport** \n",
    "\n",
    "The air cargo transport problem illustrates a practical application within the domain of classical planning, focusing on the tasks of loading, unloading, and transporting cargo by air. This example domain is defined by three key actions—Load, Unload, and Fly—and involves managing the locations of cargo and planes using two main predicates: \n",
    "- **In(c, p):**  Indicates that cargo \"c\" is inside plane \"p\". \n",
    "- **At(x, a):**  Denotes that object \"x\" (which can be either a plane or cargo) is at airport \"a\".\n",
    "\n",
    "A critical aspect of this domain is the proper maintenance of the At predicates, especially when planes transport cargo from one airport to another. Since PDDL does not support universal quantification directly, the solution to track cargo movement involves conceptualizing the At predicate to mean that cargo is \"available for use at a given location\" only when it is not loaded in any plane, thus ceasing to be \"At\" any location when it is \"In\" a plane and only becoming \"At\" a new location upon being unloaded.\n",
    "\n",
    "The provided plan demonstrates a sequence of actions to solve a given problem within this domain:\n",
    "1. Load cargo C1 into plane P1 at San Francisco airport (SFO).\n",
    "2. Fly plane P1 from SFO to John F. Kennedy airport (JFK).\n",
    "3. Unload cargo C1 from plane P1 at JFK.\n",
    "4. Load cargo C2 into plane P2 at JFK.\n",
    "5. Fly plane P2 from JFK back to SFO.\n",
    "6. Unload cargo C2 from plane P2 at SFO.\n",
    "\n",
    "This sequence of Load, Fly, and Unload actions effectively moves cargo between locations, showcasing the use of PDDL to model and solve complex planning problems in the air cargo transport domain."
   ]
  },
  {
   "cell_type": "markdown",
   "metadata": {},
   "source": [
    "<img src=\"https://raw.githubusercontent.com/ValRCS/RBS_PBM773_Introduction_to_AI/main/img/ch11_automated_planning/DALL%C2%B7E%202024-02-11%2020.26.18%20-%20Create%20an%20illustration%20featuring%20a%20single%20sedan%20car%20with%20one%20flat%20tire%2C%20focusing%20on%20a%20female%20driver%20who%20is%20visible%20taking%20the%20spare%20tire%20from%20the%20trun.webp\" width=\"400\">"
   ]
  },
  {
   "cell_type": "markdown",
   "metadata": {},
   "source": [
    "#### 11.1.2 Example Domain: The Spare Tire Problem** \n",
    "\n",
    "The spare tire problem provides a straightforward yet illustrative example of classical planning in a domain focused on solving a common real-world issue: changing a flat tire on a car. The goal in this scenario is to replace a flat tire, currently mounted on the car's axle, with a good spare tire located in the trunk. This problem abstracts away from real-world complications such as difficult lug nuts, focusing instead on the fundamental actions required to achieve the goal.\n",
    "\n",
    "The domain defines four actions: \n",
    "1. **Remove(Flat, Axle):**  Remove the flat tire from the axle. \n",
    "2. **Remove(Spare, Trunk):**  Take the spare tire out of the trunk. \n",
    "3. **PutOn(Spare, Axle):**  Mount the spare tire onto the axle. \n",
    "4. **Leaving the car unattended overnight:**  An action assumed to result in the disappearance of the tires, highlighting a potential risk factor in the problem's environment.\n",
    "\n",
    "A viable solution to the problem, assuming the goal is to have the good spare tire mounted on the axle and avoiding the risk of leaving the car unattended, can be summarized in a sequence of actions: \n",
    "1. **Remove(Flat, Axle):**  First, the flat tire is removed from the axle. \n",
    "2. **Remove(Spare, Trunk):**  Then, the spare tire is taken out of the trunk. \n",
    "3. **PutOn(Spare, Axle):**  Finally, the spare tire is mounted on the axle in place of the flat tire.\n",
    "\n",
    "This sequence efficiently achieves the goal of replacing the flat tire with the spare, demonstrating the application of classical planning principles to a simplified yet relatable problem. The inclusion of a potential negative outcome (leaving the car unattended) adds a layer of complexity and decision-making to the problem, albeit not directly influencing the solution in this simplified version."
   ]
  },
  {
   "cell_type": "markdown",
   "metadata": {},
   "source": [
    "##### Starting Block World State\n",
    "\n",
    "<img src=\"https://raw.githubusercontent.com/ValRCS/RBS_PBM773_Introduction_to_AI/main/img/ch11_automated_planning/DALL%C2%B7E%202024-02-11%2011.38.50%20-%20Illustration%20of%20Blocks%20World%20in%20Artificial%20Intelligence%20concept%2C%20featuring%20a%20table%20with%20three%20cubes%20colored%20red%2C%20black%2C%20and%20blue%20respectively%2C%20alongsi.webp\" width=\"400\">"
   ]
  },
  {
   "cell_type": "markdown",
   "metadata": {},
   "source": [
    "#### 11.1.3 Example Domain: The Blocks World** \n",
    "\n",
    "The blocks world is a classic planning domain that simplifies interaction with a set of cube-shaped blocks on a table, which can be manipulated one at a time by a robotic arm. This domain is iconic in planning research for its simplicity and the complexity of planning tasks it can generate.\n",
    "\n",
    "Key characteristics of the blocks world include: \n",
    "- **Blocks:**  Cube-shaped items that can be stacked directly on top of each other, but only one block can fit on top of another. \n",
    "- **Robot Arm:**  Capable of picking up and moving a single block at a time, it cannot move a block if another block is on top of it. \n",
    "- **Goal:**  A common goal might be to arrange the blocks in a specific configuration, such as getting block A on top of B and block B on top of C.\n",
    "\n",
    "In this domain, the **On(b, x)**  predicate indicates that block \"b\" is on \"x\", where \"x\" can be another block or the table. The **Move(b, x, y)**  action signifies moving block \"b\" from \"x\" to \"y\", with the precondition that no other block is on \"b\", represented in basic PDDL by introducing the **Clear(x)**  predicate, which is true when nothing is on \"x\".\n",
    "\n",
    "However, handling the scenario where blocks are moved to or from the table introduces complexities in maintaining the **Clear**  predicate accurately. Two adjustments are made to address these: \n",
    "1. **Action(MoveToTable(b, x)):**  An action schema for moving a block \"b\" from its position \"x\" directly to the table, adjusting the **Clear**  predicate appropriately to reflect the new state. \n",
    "2. **Interpretation of Clear(x):**  Redefined as indicating a clear space on \"x\" to hold a block, implying **Clear(Table)**  is always true, simplifying the logic for when blocks are moved onto the table.\n",
    "\n",
    "To prevent misuse of the **Move**  action when moving blocks to the table, and to refine the search space for planning, the predicate **Block(b)**  can be added to the precondition of **Move** , ensuring that both \"b\" and \"y\" are blocks.\n",
    "\n",
    "This domain exemplifies the use of PDDL in modeling and solving planning problems with physical objects and constraints, demonstrating both the power and the limitations of the language in capturing complex real-world interactions in a simplified setting."
   ]
  },
  {
   "cell_type": "markdown",
   "metadata": {},
   "source": [
    "##### Ending Block World State\n",
    "\n",
    "<img src=\"https://raw.githubusercontent.com/ValRCS/RBS_PBM773_Introduction_to_AI/main/img/ch11_automated_planning/DALL%C2%B7E%202024-02-11%2011.44.03%20-%20Create%20an%20illustration%20of%20a%20Blocks%20World%20scenario%20featuring%20a%20table%20with%20a%20specific%20arrangement%20of%20shapes_%20a%20red%20cube%20block%20at%20the%20base%2C%20a%20blue%20cube%20b.webp\" width=\"400\">"
   ]
  },
  {
   "cell_type": "markdown",
   "metadata": {},
   "source": [
    "## 11.2 Algorithms for Classical Planning\n",
    "\n",
    "The exploration of algorithms for classical planning delves into the strategies for navigating through the space of states from an initial state to a goal state. This process is fundamental to solving planning problems by identifying a sequence of actions that leads to the desired outcome. The section outlines three primary approaches to solving classical planning problems: \n",
    "1. **Forward Search:**  This method involves starting from the initial state and progressively applying action schemas to move through the state space towards the goal state. The advantage of this approach lies in its intuitive application of actions, mirroring the real-world process of taking steps toward achieving a goal. \n",
    "2. **Backward Search:**  In contrast to forward search, backward search begins with the goal state and works in reverse to find actions that could lead to the goal from the initial state. This method can be more efficient in certain scenarios, particularly when the goal state is more clearly defined than the path to reach it. \n",
    "3. **Translation to Logic Sentences and Logical Inference:**  This approach converts the planning problem into a set of logic sentences, then uses logical inference algorithms to deduce a sequence of actions that constitute a solution. This method leverages the declarative nature of action schemas and the power of logical reasoning to solve planning problems.\n",
    "\n",
    "Each of these algorithms has its advantages and applicability, depending on the specific characteristics of the planning problem, such as the complexity of the state space and the clarity of the goal state. By providing multiple avenues for solving classical planning problems, these algorithms underscore the flexibility and depth of planning techniques in artificial intelligence."
   ]
  },
  {
   "cell_type": "markdown",
   "metadata": {},
   "source": [
    "### 11.2.1 Forward State-Space Search for Planning\n",
    "\n",
    "Forward state-space search is a method for solving planning problems by traversing the space of possible states from an initial state towards a goal state. This approach utilizes heuristic search algorithms, as discussed in earlier chapters, to efficiently navigate through the complexities of planning environments. The process involves several key components and considerations: \n",
    "- **States:**  The search operates on ground states, where every fluent (a condition that can be true or false in the world) is explicitly true or false. The goal state is defined by a specific combination of fluents that match the goal criteria of the planning problem, including all required positive fluents and the absence of any specified negative fluents. \n",
    "- **Actions:**  Actions are determined based on their applicability in the current state. This involves grounding the action schemas—replacing their variables with constants based on the current state—to generate specific actions (ground actions) that can be executed. The process of unification is used to match the current state with the preconditions of action schemas, resulting in a set of applicable actions. \n",
    "- **Challenges:**  One of the primary challenges of forward state-space search is the potential enormity of the state space, especially in complex problems with many objects and possible actions. The example given of an air cargo problem illustrates how quickly the number of potential actions and subsequent states can grow, leading to a vast search space that is impractical to explore without effective heuristics. \n",
    "- **Heuristics:**  The key to making forward state-space search feasible in large and complex planning problems lies in the use of heuristics. While domain-specific heuristics have been employed in real-world applications, the development of strong domain-independent heuristics has been crucial. These heuristics are derived automatically and can significantly reduce the search space by guiding the search process towards the goal more efficiently.\n",
    "\n",
    "In summary, forward state-space search for planning is a powerful approach that, when combined with effective heuristic techniques, can solve a wide range of planning problems by systematically exploring the space of possible states from the initial state to achieve the specified goal."
   ]
  },
  {
   "cell_type": "markdown",
   "metadata": {},
   "source": [
    "### 11.2.2 Backward Search for Planning \n",
    "\n",
    "Backward search, also known as regression search, is a method for solving planning problems by starting from the goal state and working backwards to find a sequence of actions that connects to the initial state. This approach focuses on identifying relevant actions at each step, which can significantly reduce the branching factor compared to forward search, especially in domains with a vast number of possible actions. The key concepts and mechanisms of backward search include: \n",
    "- **Relevant Actions:**  An action is considered relevant if its effects include at least one of the goal's literals without negating any part of the goal. This selection criterion ensures that only actions contributing directly towards achieving the goal are considered, streamlining the search process. \n",
    "- **Application of Actions in Reverse:**  To apply an action backward, the process involves regressing the current goal over the action to generate a new goal state (g'). This regression incorporates the action's preconditions while removing and adding literals based on the action's effects, effectively reversing the action's impact to deduce the necessary previous state. \n",
    "- **Handling Variables:**  The regression process must account for variables in actions and goals, often requiring substitutions to align the action's effects with the goal's literals. This can introduce new variables and conditions into the goal state, reflecting the requirements that must have been met for the action to occur. \n",
    "- **Efficiency and Challenges:**  Backward search can be more efficient in domains with many actions by reducing the branching factor. However, the presence of variables in regressed states complicates the development of effective heuristics, making it challenging to guide the search efficiently. This complexity is a primary reason why many systems prefer forward search despite the potential efficiency gains of backward search. \n",
    "- **Examples:**  The summary provides examples demonstrating how backward search can simplify the search process in scenarios with potentially vast action spaces, such as delivering cargo or purchasing a book with a specific ISBN. By focusing on actions relevant to the goal and efficiently regressing over these actions, backward search can quickly narrow down the solution space.\n",
    "\n",
    "In summary, backward search offers a powerful tool for planning by efficiently navigating the space of possible actions in reverse, from the goal back to the initial state. While it presents advantages in reducing the branching factor, the challenges in generating effective heuristics due to variable handling often make forward search a more practical choice for many planning systems."
   ]
  },
  {
   "cell_type": "markdown",
   "metadata": {},
   "source": [
    "### 11.2.3 Planning as Boolean Satisfiability** \n",
    "\n",
    "Planning problems can be effectively solved by translating them into propositional logic satisfiability problems (SAT). This approach, exemplified by SATPLAN and similar SAT-based planners, involves converting a planning problem defined in PDDL into a form that can be processed by an efficient SAT solver. The translation process comprises several critical steps: \n",
    "- **Propositionalization of Actions:**  This step involves generating ground propositions for each action schema by substituting constants for the schema's variables. Instead of a generic action schema, this results in specific action propositions for each possible combination of entities (e.g., cargo, plane, and airport) and for each time step. \n",
    "- **Action Exclusion Axioms:**  These axioms enforce that no two actions can occur simultaneously, ensuring that the plan's actions do not conflict with each other. \n",
    "- **Precondition Axioms:**  For every ground action, a corresponding axiom is added to assert that if an action occurs at time ttt, its preconditions must have been true just before its execution. \n",
    "- **Initial State Definition:**  The initial state of the problem is explicitly defined by asserting which fluents are true and which are not at the beginning of the planning scenario. \n",
    "- **Propositionalization of the Goal:**  The goal state is translated into a propositional form, where it is represented as a disjunction of all possible ground instances that satisfy the goal conditions, with variables replaced by constants. \n",
    "- **Successor-State Axioms:**  For each fluent, an axiom is formulated to define its value at time t+1t+1t+1 based on the actions that cause it to be true or false. This involves specifying which actions add or delete the fluent, ensuring the logical progression of the world state across time steps.\n",
    "\n",
    "The translation process significantly expands the size of the problem representation compared to the original PDDL description. However, the efficiency of modern SAT solvers often compensates for the increased complexity, making SAT-based planning a powerful and effective approach for solving complex planning problems. By leveraging the capabilities of SAT solvers, planning problems can be addressed in a logically rigorous and computationally efficient manner, opening up new possibilities for solving a wide range of planning challenges in artificial intelligence."
   ]
  },
  {
   "cell_type": "markdown",
   "metadata": {},
   "source": [
    "### 11.2.4 Other Classical Planning Approaches** \n",
    "\n",
    "Apart from the forward search, backward search, and SAT-based planning approaches, the field of automated planning has explored various other methodologies over its 50-year history. Here's a brief overview of some notable alternative approaches: \n",
    "- **Graphplan:**  This approach utilizes a specialized data structure known as a planning graph to represent the relationships between actions, their preconditions, and effects, as well as to identify mutually exclusive actions. Graphplan offers a unique way of encoding constraints, facilitating efficient planning in certain scenarios. \n",
    "- **Situation Calculus:**  A formalism for describing planning problems using first-order logic, situation calculus introduces successor-state axioms similar to those in SATPLAN. It provides more flexibility and concise axiomatization than propositional logic, enhancing theoretical understanding of planning. However, its practical impact has been limited, partly due to the less developed state of first-order logic provers compared to propositional satisfiability solvers. \n",
    "- **Constraint Satisfaction Problem (CSP):**  Planning can be framed as a CSP, particularly for bounded planning problems where the objective is to find a plan of a specific length. This approach simplifies the encoding compared to SAT-based planning by using a single variable per time step to represent the possible actions, eliminating the need for action exclusion axioms. \n",
    "- **Partial-Order Planning:**  Unlike methods that generate strictly linear sequences of actions, partial-order planning represents plans as graphs, allowing for more flexible action ordering. This approach is adept at managing independent subproblems within a larger planning task. Though it was once seen as superior for certain types of planning problems, advancements in forward-search planners and the capabilities of SATPLAN, combined with the exponential growth in computing power, have lessened its competitiveness in fully automated classical planning domains.\n",
    "\n",
    "Despite these developments, partial-order planning retains significant value in specific areas, such as operations scheduling and scenarios where human interpretability of plans is crucial. For instance, planning for spacecraft and Mars rovers often employs partial-order planning to facilitate human oversight before plan execution. This adaptability underscores the diversity and richness of planning methods within artificial intelligence, highlighting the continuous evolution of strategies to tackle complex planning problems effectively."
   ]
  },
  {
   "cell_type": "markdown",
   "metadata": {},
   "source": [
    "## 11.3 Heuristics for Planning\n",
    "\n",
    "Effective heuristics are crucial for enhancing the efficiency of both forward and backward search in planning. A heuristic function h(s)h(s)h(s) estimates the cost or steps required to reach the goal from a given state sss, aiming for admissibility by not overestimating this distance. This section discusses domain-independent heuristics developed from the factored representation of states and actions in planning, contrasting with the atomic state analysis that typically requires domain-specific heuristics.\n",
    "### Key Points \n",
    "- **Admissible Heuristics:**  These are derived from simplifying the original problem into a \"relaxed\" problem that is easier to solve. The solution cost to the relaxed problem serves as the heuristic estimate for the original problem. \n",
    "- **Relaxation Strategies:**  Simplifying the problem can involve adding more actions (edges in the graph) or abstracting the state space to reduce the number of states. Two primary heuristic strategies discussed are: \n",
    "- **Ignore Preconditions Heuristic:**  Removes all preconditions from actions, making every action available in every state. This simplification implies that achieving each goal fluent might take one step, although complications arise due to actions that might achieve multiple goals or undo others' effects. \n",
    "- **Ignore Delete-Lists Heuristic:**  By removing the delete effects of actions (negative literals), this heuristic prevents actions from undoing each other's progress, creating a monotonic approach toward the goal. Despite the NP-hard nature of finding an optimal solution in this relaxed setting, approximate solutions can be effectively found through simpler methods like hill climbing.\n",
    "### Applications and Implications \n",
    "- **Automatic Derivation of Heuristics:**  The factored representation allows for the automatic derivation of heuristics, such as the number-of-misplaced-tiles or the Manhattan distance heuristic in sliding-tile puzzles, by selectively ignoring certain preconditions. \n",
    "- **Efficiency in Planning:**  These domain-independent heuristics facilitate the planning process across various domains by enabling heuristic search algorithms like A* to find optimal or near-optimal solutions more efficiently. \n",
    "- **Graphical Representation:**  The heuristic values can be visually represented in state space diagrams, illustrating the heuristic's guidance towards the goal without backtracking, particularly evident in the ignore-delete-lists heuristic's simplification.\n",
    "### Conclusion\n",
    "\n",
    "The development of domain-independent heuristics in planning represents a significant advance, enabling the application of efficient search algorithms to a wide range of planning problems. By abstracting the problem into a more manageable form, these heuristics provide a powerful tool for guiding the search process towards the goal, demonstrating the practical benefits of the factored representation in automated planning.\n"
   ]
  },
  {
   "cell_type": "markdown",
   "metadata": {},
   "source": [
    "### 11.3.1 Domain-Independent Pruning** \n",
    "\n",
    "Domain-independent pruning techniques exploit the structured nature of factored representations in planning problems to significantly enhance search efficiency by eliminating redundant or less promising paths. This approach leverages the understanding that many states in the search space may be equivalent or symmetrical, leading to unnecessary computational overhead if each is considered separately.\n",
    "#### Key Strategies for Pruning \n",
    "- **Symmetry Reduction:**  This technique identifies states that are essentially variations of each other, where the choice among them does not impact the achievement of the goal. By recognizing and eliminating these symmetrical states from consideration—retaining just one representative—the search space becomes more manageable, facilitating more efficient problem-solving. \n",
    "- **Forward Pruning:**  Accepting the risk of potentially overlooking an optimal solution, forward pruning aims to concentrate the search effort on the most promising branches. This is achieved by defining \"preferred actions,\" either as steps in a relaxed plan or actions that fulfill some precondition of the relaxed plan, thus guiding the search towards more likely successful outcomes.\n",
    "#### Applications and Benefits \n",
    "- **Efficient Solution Discovery:**  By reducing the search space, these pruning techniques make it feasible to solve problems that would otherwise be intractable due to the sheer number of states or actions to consider. \n",
    "- **Serializable Subgoals:**  Identifying that a problem's subgoals can be achieved in a specific sequence without negating prior achievements allows for a streamlined planning approach. For instance, constructing a tower from the bottom up in the blocks world or activating light switches in a fixed order exemplifies how recognizing serializable subgoals can eliminate the need for backtracking and reduce complexity.\n",
    "#### Practical Implications \n",
    "- **Real-World Applications:**  The Remote Agent planner, used to control NASA’s Deep Space One spacecraft, demonstrated the practical significance of these techniques. By identifying that the spacecraft's control propositions were serializable, the planner could efficiently manage the spacecraft in real time, a task previously deemed unfeasible due to computational constraints.\n",
    "#### Conclusion\n",
    "\n",
    "Domain-independent pruning, through symmetry reduction and forward pruning, along with the strategic approach to serializable subgoals, underscores the importance of leveraging the inherent structure of planning problems. These techniques not only streamline the search process but also open up possibilities for solving complex problems in real-time applications, showcasing the practical impact of intelligent pruning strategies in automated planning."
   ]
  },
  {
   "cell_type": "markdown",
   "metadata": {},
   "source": [
    "### 11.3.2 State Abstraction in Planning** \n",
    "\n",
    "State abstraction in planning aims to simplify complex planning problems by reducing the number of states to be considered. This simplification is achieved through a process of abstraction, where details irrelevant to achieving the goal are omitted, resulting in a many-to-one mapping from the detailed ground states to more abstract representations.\n",
    "#### Key Concepts \n",
    "- **State Abstraction:**  A technique to decrease the computational load by reducing the number of states through ignoring certain fluents or details of the problem that are not critical to achieving the goal. This can significantly lower the complexity from potentially infeasible levels to manageable ones. \n",
    "- **Fluent Ignoring:**  By selectively ignoring some fluents—details about the state that can change over time—the size of the state space can be dramatically reduced. For instance, in an air cargo problem, focusing only on crucial At fluents related to specific planes and packages can reduce the state space from an overwhelming number to a tractable one. \n",
    "- **Decomposition and Subgoal Independence:**  Decomposing a problem into independent subgoals and solving each separately can simplify planning. The cost of solving the entire problem can be approximated by combining the costs of solving its parts, assuming subgoal independence. This assumption can be optimistic or pessimistic, affecting the admissibility of the heuristic derived from the decomposition.\n",
    "#### Applications and Implications \n",
    "- **Admissibility and Heuristic Estimation:**  Solutions found within an abstracted state space are inherently shorter and thus admissible as heuristics for the original problem. The challenge lies in optimally combining solutions to subgoals, where summing individual costs can offer a reasonable estimate but may not always be admissible. \n",
    "- **Pattern Databases:**  Utilizing pattern databases, which precompute and store the costs of achieving subgoals, can further enhance efficiency. The initial cost of creating these databases is offset by their utility across multiple problem instances. \n",
    "- **FF Planner:**  An example of a system leveraging effective heuristics, FF (FASTFORWARD) uses state abstraction and the ignore-delete-lists heuristic to estimate costs within a planning graph framework. FF employs a modified hill climbing search, supplemented by breadth-first and greedy best-first searches to navigate around local maxima.\n",
    "#### Conclusion\n",
    "\n",
    "State abstraction represents a powerful strategy for managing the complexity of planning problems by focusing on the essential elements necessary for goal achievement. Through careful selection of fluents to ignore and strategic decomposition of goals into independent subgoals, planners can effectively reduce the search space, making it possible to solve otherwise intractable problems. Tools like FF demonstrate the practical application of these concepts, showcasing the potential of state abstraction combined with innovative search techniques to find solutions efficiently in the vast landscape of planning challenges."
   ]
  },
  {
   "cell_type": "markdown",
   "metadata": {},
   "source": [
    "## 11.4 Hierarchical Planning** \n",
    "\n",
    "Hierarchical planning addresses the complexity of planning problems by incorporating different levels of abstraction, moving beyond the limitations of fixed sets of atomic actions. This approach enables the planning of highly complex tasks by breaking them down into more manageable subtasks, each of which can be further decomposed until reaching the level of basic motor control actions.\n",
    "### Key Concepts \n",
    "- **Levels of Abstraction:**  Hierarchical planning operates across multiple levels of abstraction, from high-level strategic planning down to detailed motor control actions. This allows for the efficient organization and execution of plans that would otherwise require an impractical number of atomic actions. \n",
    "- **Decomposition of Tasks:**  Tasks at higher levels of the hierarchy are decomposed into smaller, more specific subtasks. This decomposition continues until reaching the atomic level, where actions are directly executable. \n",
    "- **Interleaving Planning and Acting:**  In hierarchical planning, planning and execution are often interleaved, meaning that some details of the plan are not fully specified until the need for action arises. This allows for flexibility and adaptability in executing complex plans.\n",
    "### Applications and Benefits \n",
    "- **Managing Complexity:**  Hierarchical planning is a powerful tool for managing the complexity of tasks that involve numerous steps or require coordination across different levels of detail. By organizing actions into a hierarchy, the overall planning task becomes more tractable. \n",
    "- **Efficiency:**  By focusing on a small number of activities at each level of the hierarchy, hierarchical planning reduces the computational cost associated with finding optimal arrangements of actions for a given problem.\n",
    "### Examples \n",
    "- **Vacation Planning:**  A vacation plan might start with high-level tasks such as traveling to a destination, which are then broken down into specific actions like booking flights and arranging transportation to the airport. Each of these actions can be further decomposed into more detailed steps. \n",
    "- **Software Development:**  The development of complex software systems often utilizes a hierarchical structure of subroutines and classes, demonstrating the application of hierarchical decomposition in managing complex tasks.\n",
    "### Conclusion\n",
    "\n",
    "Hierarchical planning offers a systematic approach to solving complex planning problems by breaking them down into hierarchies of subtasks, each with its own level of detail and scope. This methodology mirrors the organizational structures found in software development, military operations, and corporate management, highlighting its versatility and effectiveness in various domains. By enabling planners to tackle problems at different levels of abstraction and detail, hierarchical planning facilitates the efficient organization and execution of tasks that would otherwise be overwhelming due to their complexity."
   ]
  },
  {
   "cell_type": "markdown",
   "metadata": {},
   "source": [
    "### 11.4.1 High-Level Actions** \n",
    "\n",
    "High-level actions (HLAs) are foundational to hierarchical task network (HTN) planning, providing a framework for hierarchical decomposition in planning. This approach breaks down complex tasks into simpler, more manageable components, allowing for a structured progression from high-level plans to executable primitive actions.\n",
    "#### Key Concepts \n",
    "- **Primitive Actions:**  These are the basic actions with standard precondition-effect schemas that directly affect the state of the world. \n",
    "- **High-Level Actions (HLAs):**  HLAs represent more complex activities that can be refined into sequences of either more HLAs or primitive actions. For instance, \"Go to San Francisco airport\" is an HLA that might be refined into actions like driving or taking a ride-hailing service. \n",
    "- **Refinements:**  Each HLA can have one or more possible refinements, which are sequences of actions (HLAs or primitive actions) that concretely implement the high-level action. \n",
    "- **Implementation:**  An implementation of an HLA is a refinement that consists solely of primitive actions. The implementation of a high-level plan is a sequence that combines the implementations of its constituent HLAs. \n",
    "- **Achieving the Goal:**  A high-level plan is considered to achieve the goal if at least one of its implementations does so from the given state. This flexibility allows planners to select the most appropriate implementation based on the current context.\n",
    "#### Implications for Planning \n",
    "- **Flexibility and Decision-Making:**  The hierarchical planning framework allows for adaptive decision-making, as agents can choose among various implementations of HLAs to achieve their goals effectively. \n",
    "- **Complexity Reduction:**  Properly designed HLAs can significantly reduce the computational complexity of planning, potentially transforming exponential search problems into linear ones. However, creating an effective set of HLAs can be challenging. \n",
    "- **Direct Reasoning:**  When HLAs have multiple implementations, planners can either search among these implementations for a viable solution or reason directly about the HLAs without delving into the specifics of each implementation. The latter approach can lead to the derivation of abstract plans that are provably correct without needing to enumerate all possible action sequences.\n",
    "#### Conclusion\n",
    "\n",
    "High-level actions introduce a powerful mechanism for managing complexity in planning by leveraging hierarchical decomposition. Through the structured refinement of HLAs into executable actions, planners can tackle complex tasks with increased efficiency and flexibility. This methodology underscores the importance of abstraction in problem-solving, enabling the development of sophisticated plans that navigate the intricacies of real-world tasks."
   ]
  },
  {
   "cell_type": "markdown",
   "metadata": {},
   "source": [
    "### 11.4.2 Searching for Primitive Solutions** \n",
    "\n",
    "Hierarchical Task Network (HTN) planning involves breaking down a complex task into simpler, actionable steps through the use of high-level actions (HLAs) and their implementations. This approach, focusing on finding primitive solutions, employs a top-level action called Act to structure the planning process.\n",
    "#### Core Process\n",
    "- The process starts with the top-level action Act, aiming to find an implementation that achieves the goal.\n",
    "- For each primitive action, a recursive definition of Act is created through refinements, adding actions progressively while ensuring a mechanism to halt the recursion when the goal is achieved, typically through an empty step list with preconditions matching the goal.\n",
    "- The planning algorithm iteratively refines HLAs in the current plan until achieving the goal, prioritizing plans based on the depth of nesting rather than the number of steps, allowing for various search strategies, including breadth-first and depth-first.\n",
    "#### Benefits and Applications \n",
    "- **Efficiency in Complex Domains:**  HTN planning can encode extensive knowledge within HLAs and their refinements, significantly reducing the need for search and enabling the generation of extensive plans with minimal computational effort. \n",
    "- **Hierarchical Structure:**  The inherent hierarchical structure of HTN plans enhances human readability and understandability, making it suitable for complex organizational tasks, such as scheduling and production planning in industrial settings. \n",
    "- **Computational Advantage:**  By maintaining a small number of refinements (r) and aiming for longer action sequences within each refinement (k), HTN planning can dramatically reduce the computational cost compared to non-hierarchical planning, showcasing potential exponential to linear cost reductions.\n",
    "#### Implementations and Learning \n",
    "- **Plan Libraries:**  A critical aspect of HTN planning is the development of a plan library, containing methods for executing complex tasks. These libraries can be enriched over time through learning from problem-solving experiences, further enhancing planning efficiency. \n",
    "- **Learning and Generalization:**  The ability to generalize from specific problem-solving instances to broader methods is essential, allowing the planner to apply learned strategies to new problems effectively.\n",
    "#### Conclusion\n",
    "\n",
    "HTN planning represents a sophisticated approach to addressing the complexity of planning problems by leveraging hierarchical decomposition and the strategic use of high-level actions. Through iterative refinement and the application of domain knowledge encoded in HLAs, HTN planning facilitates efficient search for primitive solutions, making it a powerful tool for solving diverse and complex planning challenges."
   ]
  },
  {
   "cell_type": "markdown",
   "metadata": {},
   "source": [
    "### 11.4.3 Searching for Abstract Solutions** \n",
    "\n",
    "In hierarchical planning, searching for abstract solutions involves developing high-level plans without needing to specify the detailed actions that compose each step. This approach relies on precondition-effect descriptions for high-level actions (HLAs), allowing planners to verify that a plan can achieve its goal based on the abstract actions alone, without delving into the specifics of implementation.\n",
    "#### Key Concepts \n",
    "- **High-Level Plan Verification:**  Planners can validate the effectiveness of a high-level plan using precondition-effect descriptions for HLAs, much like how primitive actions are handled. This verification process confirms whether a plan is capable of achieving its intended goal without specifying the exact sequence of primitive actions. \n",
    "- **Downward Refinement Property:**  A crucial aspect of this approach is ensuring that every high-level plan that purports to achieve the goal has at least one implementation that can actually do so. This requirement is known as the downward refinement property and is essential for the integrity of HLA descriptions. \n",
    "- **Writing HLA Descriptions:**  The challenge lies in accurately describing HLAs, especially those with multiple possible implementations. Descriptions should be truthful and account for all potential outcomes, ensuring that they do not make false claims about an HLA's capabilities.\n",
    "#### Practical Considerations \n",
    "- **Conservatism in HLA Descriptions:**  When describing the effects of an HLA, it's safe to include only those positive effects achieved by every implementation and the negative effects present in any implementation. However, this approach can be overly conservative, potentially limiting the utility of HLAs by not fully capturing their potential to achieve the goal under various conditions. \n",
    "- **Dealing with Multiple Implementations:**  The process becomes complicated when HLAs have multiple ways to be implemented, as it's necessary to account for varying preconditions and effects across these implementations. For instance, an HLA like Go(Home,SFO) might have different requirements and outcomes based on whether the agent drives or takes a taxi, influenced by factors such as having cash.\n",
    "#### Conclusion\n",
    "\n",
    "Searching for abstract solutions in hierarchical planning allows for the formulation of high-level plans that can be proven to achieve goals without specifying detailed actions. This approach streamlines the planning process by focusing on the capabilities of HLAs and their precondition-effect descriptions, ensuring that plans are both feasible and adaptable. However, accurately capturing the essence of HLAs, especially those with diverse implementations, presents a significant challenge. Successfully navigating this challenge requires a careful balance between generality and specificity in describing HLAs to maintain the flexibility and effectiveness of hierarchical planning strategies."
   ]
  },
  {
   "cell_type": "markdown",
   "metadata": {},
   "source": [
    "<img src=\"https://raw.githubusercontent.com/ValRCS/RBS_PBM773_Introduction_to_AI/main/img/ch11_automated_planning/DALL%C2%B7E%202024-02-11%2020.34.00%20-%20Create%20an%20illustration%20of%20a%20person%20standing%20at%20a%20crossroads%2C%20embodying%20the%20metaphor%20of%20making%20a%20decision.%20The%20person%20should%20be%20depicted%20with%20a%20devil%20s.webp\" width=\"400\">"
   ]
  },
  {
   "cell_type": "markdown",
   "metadata": {},
   "source": [
    "### Searching for Abstract Solutions: Continued** \n",
    "\n",
    "In hierarchical planning, the concept of angelic nondeterminism allows planners to evaluate high-level actions (HLAs) based on the potential outcomes their implementations could achieve. This approach contrasts with demonic nondeterminism, where outcomes are adversarially chosen, limiting the planner's control over achieving the goal.\n",
    "#### Angelic Semantics and Reachable Sets \n",
    "- **Angelic Semantics:**  This framework posits that the agent can choose the outcome of an HLA, making HLAs with more refinements inherently more versatile and capable of achieving a wider range of outcomes. \n",
    "- **Reachable Set (REACH):**  For any given state sss and HLA hhh, the reachable set REACH(s,h)REACH(s, h)REACH(s,h) encompasses all states that could result from any implementation of hhh. A high-level plan is considered successful if its reachable set intersects with the set of goal states.\n",
    "#### Algorithmic Approach \n",
    "- **Plan Evaluation:**  The planning algorithm searches for high-level plans whose reachable sets intersect the goal, committing to abstract plans that are verifiably achievable. This process involves approximating the effects of HLAs and assessing whether plans definitively work, don't work, or require further refinement based on optimistic and pessimistic reachable sets. \n",
    "- **Approximations:**  To manage the complexity of infinite implementations or \"wiggly\" reachable sets, planners use optimistic and pessimistic descriptions to bound the actual reachable set, guiding the search process by delineating clearly achievable, unachievable, and uncertain plans.\n",
    "#### Practical Implications \n",
    "- **Computational Efficiency:**  The use of angelic semantics and reachable sets provides a significant computational advantage by enabling the planner to focus on promising high-level plans and pruning less feasible ones. This approach is particularly effective in complex environments, like cleaning interconnected rooms, where hierarchical planning can scale linearly with the problem size. \n",
    "- **Human-Like Problem Solving:**  Angelic planning mirrors human cognitive strategies for dealing with complex tasks—abstracting, decomposing, and selectively refining problems to manage combinatorics and focus on feasible solutions.\n",
    "#### Conclusion\n",
    "\n",
    "The continuation of searching for abstract solutions in hierarchical planning highlights the utility of angelic nondeterminism and the concept of reachable sets in evaluating and committing to high-level plans. By abstracting the complexities of potential outcomes and focusing on the strategic selection and refinement of plans, planners can effectively navigate vast solution spaces. This method not only enhances computational efficiency but also aligns with intuitive human approaches to problem-solving, emphasizing the importance of abstraction and decomposition in tackling complex tasks."
   ]
  },
  {
   "cell_type": "markdown",
   "metadata": {},
   "source": [
    "<img src=\"https://raw.githubusercontent.com/ValRCS/RBS_PBM773_Introduction_to_AI/main/img/ch11_automated_planning/DALL%C2%B7E%202024-02-11%2020.32.29%20-%20Create%20an%20illustration%20that%20depicts%20a%20symbolic%20chess%20game%20between%20demons%20and%20angels%2C%20where%20both%20sides%20are%20making%20strategic%20choices.%20The%20scene%20should%20f.webp\" width=\"400\">"
   ]
  },
  {
   "cell_type": "markdown",
   "metadata": {},
   "source": [
    "## 11.5 Planning and Acting in Nondeterministic Domains** \n",
    "\n",
    "This section explores the extension of planning strategies to accommodate challenges in partially observable, nondeterministic, and unknown environments, leveraging the advancements in factored representations. It covers sensorless planning, contingency planning, and online planning and replanning, offering solutions to real-world problems under uncertainty.\n",
    "### Sensorless (Conformant) Planning \n",
    "- **Definition:**  Planning in environments where no observations can be made. The agent must devise a plan that is guaranteed to achieve the goal without relying on sensory feedback. \n",
    "- **Example:**  Painting furniture without knowing the initial colors of the paint or the furniture. A sensorless plan might involve using any can of paint on both the chair and table to ensure they match in color, regardless of the unknowns.\n",
    "### Contingency Planning \n",
    "- **Definition:**  For partially observable and nondeterministic environments, contingency planning involves creating plans that account for various possible outcomes based on the observations made during the execution. \n",
    "- **Example:**  Determining the color of furniture and paint cans through observation and then deciding on the painting actions based on this information. If the colors match, no action is needed; otherwise, the agent selects the appropriate can to harmonize the colors.\n",
    "### Online Planning and Replanning \n",
    "- **Definition:**  Adapting to unknown environments by generating plans on-the-fly and adjusting them as new information becomes available or when unexpected situations arise. \n",
    "- **Example:**  An agent might start with a simplified plan and address discrepancies or unexpected outcomes through replanning, such as finding a paint can's color doesn't match any furniture and choosing an alternative strategy.\n",
    "### Planning in Partially Observable Environments \n",
    "- **Observation Models:**  To plan effectively, agents require models of their sensors to predict the percepts received in response to their actions, enabling them to make informed decisions based on partial information.\n",
    "### Practical Implications \n",
    "- **Real-World Applications:**  These planning strategies find applications in various real-world scenarios, from manufacturing (where contingency plans are embodied in safety features like airbags) to everyday tasks (like driving, where replanning occurs in response to unforeseen events). \n",
    "- **Strategic Planning:**  Agents must balance between detailed contingency planning for significant risks and flexible, on-the-go planning for less critical tasks, reflecting a pragmatic approach to dealing with uncertainty.\n",
    "### Conclusion\n",
    "\n",
    "Planning and acting in nondeterministic domains require sophisticated strategies that account for uncertainty, partial observability, and dynamic changes in the environment. By employing sensorless planning, contingency planning, and online planning, agents can navigate complex scenarios, making decisions that are robust against a range of possible outcomes. These approaches underscore the adaptability required for effective planning in real-world applications, highlighting the need for both preplanned contingencies and the ability to dynamically adjust plans based on evolving situations."
   ]
  },
  {
   "cell_type": "markdown",
   "metadata": {},
   "source": [
    "### 11.5.1 Sensorless Planning** \n",
    "\n",
    "Sensorless planning, also known as conformant planning, addresses the challenge of operating in environments where agents cannot make observations to inform their decisions. This approach relies on belief-state planning, where actions are designed to ensure goal achievement under uncertainty.\n",
    "#### Key Concepts \n",
    "- **Belief States:**  Represent sets of possible worlds that satisfy certain logical conditions, allowing agents to plan actions without direct observations. These are represented by logical formulas rather than explicit state enumeration. \n",
    "- **Action Schemas:**  Define the transition model in terms of actions that can be applied in a belief state, considering deterministic outcomes to update the belief state based on the action's effects. \n",
    "- **Updating Belief States:**  The process involves determining the applicability of actions in a given belief state and updating the state to reflect the actions' effects, focusing on maintaining a logical representation of possible worlds.\n",
    "#### Planning Process \n",
    "- **Initial Belief State:**  Defined by logical formulas that capture the agent's knowledge and assumptions about the environment, excluding specific details unknown to the agent. \n",
    "- **Action Sequence Solution:**  A sequence of actions that transforms the initial belief state into one that satisfies the goal conditions, demonstrated through logical progression and satisfaction of goal predicates. \n",
    "- **Belief State Progression:**  The belief state is updated through actions, maintaining a representation that encompasses all potential outcomes of these actions, ultimately leading to a state that meets the goal criteria.\n",
    "#### Challenges and Solutions \n",
    "- **Conditional Effects:**  Actions with effects that depend on the current state introduce complexity, requiring conditional effect schemas to accurately model the outcomes of actions. \n",
    "- **Representation Complexity:**  While sensorless planning aims to keep belief states manageable (e.g., in 1-CNF form), actions with conditional effects can lead to more complex, potentially exponential belief state representations. \n",
    "- **Heuristic Functions:**  Essential for guiding the search process, heuristic functions estimate the cost of achieving the goal from a given belief state. Admissible heuristics can be derived from subsets of the belief state, providing a basis for planning decisions.\n",
    "#### Practical Implications\n",
    "\n",
    "Sensorless planning is crucial for devising robust plans in environments where direct observation is not possible, leveraging logical reasoning to navigate uncertainty. The approach enables agents to plan effectively, even when faced with incomplete information, by systematically updating their belief about the world based on the actions taken. This method highlights the importance of logical representations and heuristics in managing the complexity of planning without sensory feedback, offering a foundation for making informed decisions in uncertain contexts.\n"
   ]
  },
  {
   "cell_type": "markdown",
   "metadata": {},
   "source": [
    "### 11.5.2 Contingent Planning** \n",
    "\n",
    "Contingent planning addresses challenges in environments characterized by partial observability and nondeterminism by generating plans that incorporate conditional branching based on observed percepts. This approach enables the creation of flexible plans that can adapt to various outcomes as information becomes available.\n",
    "#### Key Components \n",
    "- **Conditional Plans:**  Contingent plans are structured to include if-else conditions that depend on the percepts received during execution. These conditions allow the plan to adapt based on the current state and available information, ensuring that actions are only taken when their preconditions are met. \n",
    "- **Belief State Management:**  A contingent-planning agent maintains its belief state as a logical formula, updating this state based on actions taken and percepts observed. The belief state represents the agent's current understanding of the world, which informs decision-making as the plan unfolds. \n",
    "- **Evaluating Branch Conditions:**  The agent evaluates each branch condition by checking if the current belief state entails the condition or its negation. This ensures that the agent can always decide on the next step, assuming the planning algorithm prevents the agent from encountering unknown conditions.\n",
    "#### Process of Updating Belief States \n",
    "- **Action Effects:**  The belief state is first updated based on the action's effects, similar to sensorless planning. This update considers both the addition and deletion of literals according to the action's specifications. \n",
    "- **Percept Handling:**  When percepts are received, they not only update the belief state directly but also imply that the preconditions for sensing those percepts are satisfied. This can lead to the addition of both the percept literals and the inferred preconditions into the belief state, potentially complicating its logical structure.\n",
    "#### Challenges and Solutions \n",
    "- **Complexity of Belief States:**  The introduction of disjunctions from multiple percept schemas or conditional effects can take the belief state outside of a simple conjunctive form (1-CNF), increasing the complexity of managing and updating this state. \n",
    "- **Search Algorithm:**  Contingent plans are generated through an extension of AND–OR forward search over belief states, accommodating actions with nondeterministic effects by adjusting the belief-state update calculation.\n",
    "#### Heuristic Functions \n",
    "- **Applicability:**  Many heuristic methods applicable to sensorless planning can also be employed in contingent planning, helping to estimate the cost of achieving the goal from a given belief state. These heuristics support the search process by guiding it towards more promising branches of the plan.\n",
    "#### Practical Implications\n",
    "\n",
    "Contingent planning is essential for dealing with real-world scenarios where uncertainty and partial information play significant roles. By preparing for different eventualities through conditional branching and maintaining a dynamic belief state, agents can navigate complex environments with greater efficacy. This planning approach underscores the importance of flexibility and adaptability in decision-making processes, especially when facing unpredictable or incompletely understood situations."
   ]
  },
  {
   "cell_type": "markdown",
   "metadata": {},
   "source": [
    "<img src=\"https://raw.githubusercontent.com/ValRCS/RBS_PBM773_Introduction_to_AI/main/img/ch11_automated_planning/DALL%C2%B7E%202024-02-11%2020.37.48%20-%20Create%20an%20illustration%20that%20depicts%20a%20spot-welding%20robot%20in%20a%20car%20manufacturing%20plant%2C%20performing%20two%20distinct%20tasks.%20First%2C%20show%20the%20robot%20engaging%20i.webp\" width=\"400\">"
   ]
  },
  {
   "cell_type": "markdown",
   "metadata": {},
   "source": [
    "### 11.5.3 Online Planning** \n",
    "\n",
    "Online planning addresses the need for flexibility and adaptability in dynamic, uncertain environments by integrating planning, execution, and replanning processes. This approach is crucial for dealing with unexpected events, incorrect world models, or incomplete plans, ensuring that agents can pursue their goals effectively even as conditions change.\n",
    "#### Key Features \n",
    "- **Execution Monitoring:**  Online planning requires mechanisms for execution monitoring, enabling the agent to detect when deviations from the expected state occur, necessitating replanning. \n",
    "- **Replanning:**  When the current plan is no longer viable—due to unexpected outcomes, unmet preconditions, or changes in the environment—the agent generates a new plan based on the current state and knowledge. \n",
    "- **Monitoring Strategies:**  Agents can employ various monitoring strategies, including action monitoring (verifying preconditions before action execution), plan monitoring (ensuring the remaining plan is still viable), and goal monitoring (assessing if current goals remain optimal).\n",
    "#### Challenges and Approaches \n",
    "- **Incomplete Contingent Plans:**  Agents may leave contingent plans incomplete, marking certain branches for replanning if encountered. This allows for a balance between detailed upfront planning and the flexibility to adapt to unforeseen situations. \n",
    "- **Model Inaccuracy:**  Online planning is particularly valuable when the agent's model of the world is incomplete or incorrect, allowing for adjustments to plans based on new information or corrected understanding. \n",
    "- **Handling Exogenous Events:**  Agents must be capable of adapting to external changes not accounted for in the initial plan, including unexpected goal alterations.\n",
    "#### Practical Implications \n",
    "- **Adaptive Behavior:**  Online planning enables agents to display intelligent, purpose-driven behavior, adjusting their actions in response to real-time feedback and changes in their environment. \n",
    "- **Efficient Resource Use:**  By focusing on current conditions and available information, agents can make more efficient use of resources, avoiding wasteful actions based on outdated or incorrect assumptions. \n",
    "- **Learning from Failure:**  Each failure or unexpected outcome presents an opportunity for learning, allowing agents to refine their models and strategies for future planning.\n",
    "#### Conclusion\n",
    "\n",
    "Online planning is a sophisticated approach that blends planning, execution, and continuous adaptation to navigate complex, changing environments successfully. It empowers agents to act intelligently, addressing immediate challenges while remaining aligned with broader goals. This dynamic process of planning and replanning not only enhances the agent's effectiveness in achieving objectives but also contributes to the development of more accurate and comprehensive models of the world."
   ]
  },
  {
   "cell_type": "markdown",
   "metadata": {},
   "source": [
    "## 11.6 Time, Schedules, and Resources\n",
    "\n",
    "In real-world applications, classical planning's scope—determining the sequence of actions—needs to be expanded to address the temporal and resource constraints inherent in many tasks. This necessity gives rise to the domain of planning and scheduling, which incorporates considerations of time, schedules, and the availability of resources into the planning process.\n",
    "### Key Aspects \n",
    "- **Temporal Planning:**  Extends classical planning by incorporating the duration of actions, allowing for the specification of when actions occur and how long they take. This is crucial for creating realistic plans that align with time-bound objectives. \n",
    "- **Resource Constraints:**  Real-world planning often involves limited resources, such as personnel, equipment, or materials. Effective planning must account for these limitations, ensuring that resources are allocated efficiently and do not exceed availability. \n",
    "- **Plan First, Schedule Later:**  A common approach to addressing these complexities is to separate the process into two phases: \n",
    "- **Planning Phase:**  Focuses on selecting the necessary actions and establishing a general order to achieve the goals, without detailed consideration of timing or resource allocation. \n",
    "- **Scheduling Phase:**  Adds temporal information and allocates resources to the pre-determined plan, ensuring that time constraints are met and resources are not over-committed.\n",
    "### Application and Implementation \n",
    "- **Real-World Settings:**  This dual-phase approach is widely used in industries such as manufacturing and logistics, where it's essential to optimize the use of limited resources and adhere to strict timelines. \n",
    "- **Automation and Expertise:**  While some aspects of the planning phase can be automated, leveraging algorithms and artificial intelligence, human experts often play a crucial role in refining these plans and making decisions based on experience and insight.\n",
    "### Challenges and Solutions \n",
    "- **Integration of Planning and Scheduling:**  Effectively combining these two phases can be challenging, as it requires a comprehensive understanding of the tasks' dynamics, resource limitations, and temporal constraints. Solutions often involve sophisticated algorithms that can adapt to the complexity and variability of real-world conditions. \n",
    "- **Adapting to Changes:**  Flexibility is key, as real-world conditions can change rapidly. Plans and schedules may need to be adjusted in response to unforeseen events or shifts in resource availability, requiring systems that can rapidly re-evaluate and modify existing plans.\n",
    "### Conclusion\n",
    "\n",
    "Planning and scheduling with time, schedules, and resource considerations are critical for the successful execution of complex, real-world tasks. By dividing the process into a planning phase followed by a scheduling phase, organizations can create effective strategies that account for the multifaceted nature of real-world challenges. This approach ensures that goals are met efficiently while adhering to temporal constraints and optimizing the use of limited resources."
   ]
  },
  {
   "cell_type": "markdown",
   "metadata": {},
   "source": [
    "### 11.6.1 Representing Temporal and Resource Constraints\n",
    "\n",
    "In addressing the complexities of job-shop scheduling and similar problems, it's essential to accurately represent both temporal and resource constraints. These constraints are foundational to ensuring that actions within a plan are executed in an orderly fashion, adhering to the availability and requirements of resources, and within the designated time frames.\n",
    "#### Temporal Constraints \n",
    "- **Action Duration:**  Each action within a job has a specified duration, indicating how long it takes to complete. \n",
    "- **Ordering Constraints:**  Actions within jobs have defined sequences that must be followed, dictating the order in which actions are to be executed to complete a job successfully.\n",
    "#### Resource Constraints \n",
    "- **Types of Resources:**  Resources necessary for actions can vary widely, including materials (e.g., bolts), tools (e.g., wrenches), or personnel (e.g., pilots). \n",
    "- **Quantity Required:**  Each action specifies the number of a particular resource it requires, which must be available for the action to proceed. \n",
    "- **Consumable vs. Reusable:**  Resources are categorized as either consumable (used up in the action) or reusable (available for use again after the action is completed). \n",
    "- **Resource Production:**  Some actions may produce resources, adding to the available pool for subsequent actions.\n",
    "#### Problem Solution\n",
    "\n",
    "A solution to a scheduling problem involves determining start times for each action that comply with both temporal and resource constraints, ensuring that:\n",
    "- All ordering constraints among actions are satisfied.\n",
    "- The required resources are available when needed, without exceeding the available quantities.\n",
    "#### Complexity Reduction \n",
    "- **Aggregation:**  Representing resources as numerical quantities (e.g., Inspectors(2)) rather than as named entities (e.g., Inspector(I1), Inspector(I2)) simplifies the problem by treating identical resources as indistinguishable. This approach significantly reduces the computational complexity of scheduling by avoiding the need to enumerate all possible assignments of resources to actions.\n",
    "#### Evaluation \n",
    "- **Cost Function:**  Solutions are often evaluated based on a cost function, such as the total duration of the plan (makespan). More complex evaluations may consider nonlinear resource costs or time-dependent delay costs.\n",
    "#### Conclusion\n",
    "\n",
    "Accurately representing temporal and resource constraints is crucial for solving scheduling problems effectively. By specifying the duration and sequence of actions, along with detailed resource requirements, planners can create feasible schedules that optimize resource use and minimize completion time. Aggregation and other simplification techniques play a key role in managing the inherent complexity of these problems, enabling more efficient and practical solutions.\n"
   ]
  },
  {
   "cell_type": "markdown",
   "metadata": {},
   "source": [
    "### 11.6.2 Solving Scheduling Problems\n",
    "\n",
    "Solving scheduling problems involves creating plans that satisfy both temporal ordering and resource constraints. Initially, scheduling focuses on temporal aspects, applying methods like the Critical Path Method (CPM) to determine the earliest and latest start times for actions. Incorporating resource constraints introduces additional complexity, making some scheduling problems NP-hard.\n",
    "#### Temporal Scheduling \n",
    "- **Critical Path Method (CPM):**  Utilized to identify the longest path through a graph of actions, determining the plan's duration. Actions off the critical path may have slack time, providing flexibility in scheduling. \n",
    "- **Earliest Start (ES) and Latest Start (LS) Times:**  Calculated for each action to establish a schedule that respects ordering constraints. These calculations use dynamic programming, iterating through actions based on their dependencies.\n",
    "#### Resource Constraints \n",
    "- **Resource Types and Requirements:**  Actions require specific resources, which can be consumable or reusable. The scheduling must ensure no action exceeds the available resources at any time. \n",
    "- **Complexity of Resource Scheduling:**  Introducing resource constraints complicates scheduling by adding disjunctions of linear inequalities, representing the non-overlapping requirements of resource usage.\n",
    "#### Problem Solution and Challenges \n",
    "- **Minimum Makespan:**  The goal is often to minimize the total duration (makespan) of the plan while adhering to all constraints. This requires finding start times for actions that satisfy both temporal and resource requirements. \n",
    "- **NP-Hardness:**  The addition of resource constraints significantly increases problem complexity, making optimal scheduling challenging.\n",
    "#### Approaches and Heuristics \n",
    "- **Heuristic Methods:**  Various strategies, such as the minimum slack heuristic, have been applied to find near-optimal solutions. These methods prioritize actions based on certain criteria, like slack time, to iteratively build a schedule. \n",
    "- **Optimization Techniques:**  Techniques like branch-and-bound, simulated annealing, and constraint satisfaction have been explored for finding optimal or near-optimal schedules.\n",
    "#### Integration of Planning and Scheduling \n",
    "- **Revisiting Actions and Constraints:**  If scheduling proves too difficult, it may be beneficial to reconsider the set of actions and their constraints. Adjusting these can sometimes lead to simpler scheduling problems. \n",
    "- **Augmenting Planning Algorithms:**  Planning algorithms can be modified to incorporate temporal and resource considerations during the planning process, aiming for an integrated approach that addresses both planning and scheduling aspects from the outset.\n",
    "#### Conclusion\n",
    "\n",
    "Solving scheduling problems, particularly those with resource constraints, is a complex task that requires sophisticated methods and heuristics. By initially focusing on temporal scheduling and then incorporating resource limitations, planners can devise schedules that optimize resource use and minimize overall plan duration. The integration of planning and scheduling considerations promises more efficient and feasible solutions, accommodating the intricate dynamics of real-world scenarios."
   ]
  },
  {
   "cell_type": "markdown",
   "metadata": {},
   "source": [
    "<img src=\"https://raw.githubusercontent.com/ValRCS/RBS_PBM773_Introduction_to_AI/main/img/ch11_automated_planning/DALL%C2%B7E%202024-02-11%2020.44.38%20-%20Create%20an%20illustration%20of%20a%20robot%20in%20the%20process%20of%20deciding%20which%20tool%20to%20pick%20from%20a%20selection%20of%20multiple%20tools%2C%20including%20hammers%2C%20axes%2C%20files%2C%20sc.webp\" width=\"400\">"
   ]
  },
  {
   "cell_type": "markdown",
   "metadata": {},
   "source": [
    "## 11.7 Analysis of Planning Approaches** \n",
    "\n",
    "The field of planning in artificial intelligence bridges two foundational areas: search and logic. This synthesis has propelled planners from handling simplistic scenarios to tackling extensive industrial applications, showcasing significant advancements in the capacity to manage and navigate complex problem spaces.\n",
    "### Key Insights \n",
    "- **Planning as Search and Logic:**  Planning can be viewed both as a search for a solution through possible actions and states and as a logical construction proving the possibility of a solution. This dual perspective enriches planning with methodologies from both domains, enhancing its effectiveness. \n",
    "- **Combating Combinatorial Explosion:**  A primary challenge in planning is the combinatorial explosion of potential states, growing exponentially with the number of propositions in the domain. Effective planning strategies focus on mitigating this explosion to make problem-solving feasible. \n",
    "- **Decomposability and Subproblems:**  Identifying independent subproblems within a larger planning task can drastically improve efficiency, potentially leading to exponential speedups. The challenge lies in negative interactions between actions, which can undermine decomposability. \n",
    "- **SATPLAN and Forward Search:**  Techniques like SATPLAN leverage logical encodings to represent relations between subproblems, while forward search employs heuristic methods to identify patterns that hint at underlying independent subproblems.\n",
    "### Current State and Future Directions \n",
    "- **Technique Suitability:**  There remains uncertainty about which planning techniques are most effective for specific types of problems. The field continues to explore and evaluate different approaches to better understand their applicability and performance across various scenarios. \n",
    "- **Emerging Techniques and Representations:**  The potential for new methodologies that combine the expressive power of first-order and hierarchical representations with the efficiency of factored and propositional representations is an exciting frontier. Such developments could offer more nuanced and powerful planning tools. \n",
    "- **Portfolio Planning Systems:**  The concept of portfolio planning systems reflects an innovative approach to selecting or combining algorithms for problem-solving. These systems may: \n",
    "- **Selectively**  identify the most suitable algorithm for each problem. \n",
    "- **Concurrently**  run multiple algorithms on different CPUs to find solutions in parallel. \n",
    "- **Interleave**  algorithms according to a strategic schedule, optimizing their collective strengths.\n",
    "### Conclusion\n",
    "\n",
    "Planning in AI has evolved significantly, integrating deep insights from search algorithms and logical reasoning to address the inherent complexities of real-world problems. The discipline continues to evolve, with ongoing research focused on refining existing methodologies and exploring new paradigms. The future of planning promises more adaptable, efficient, and sophisticated systems capable of handling the intricacies and dynamism of real-world applications."
   ]
  },
  {
   "cell_type": "markdown",
   "metadata": {},
   "source": [
    "## Chapter 11 Summary: Automated Planning\n",
    "\n",
    "This chapter provided a comprehensive overview of planning in AI, introducing the Planning Domain Definition Language (PDDL) for representing planning problems, and exploring various algorithmic strategies for finding solutions. Here are the key takeaways: \n",
    "- **Planning Systems:**  Utilize explicit factored representations of states and actions to derive domain-independent heuristics and develop effective algorithms for solving a wide range of problems. \n",
    "- **PDDL Framework:**  Serves as the standard for describing initial and goal states, actions, and their preconditions and effects. Extensions to PDDL accommodate additional elements like time, resources, percepts, contingent plans, and hierarchical structures. \n",
    "- **State-space Search:**  Can be conducted in forward (progression) or backward (regression) directions, with the development of effective heuristics based on subgoal independence assumptions and problem relaxations. \n",
    "- **Alternative Approaches:**  Include translating planning problems into Boolean satisfiability problems or constraint satisfaction problems, and searching through spaces of partially ordered plans. \n",
    "- **Hierarchical Task Network (HTN) Planning:**  Employs high-level actions (HLAs) advised by domain experts, implementable through various lower-level actions. HLAs' effects can be defined using angelic semantics, facilitating the derivation of high-level plans without delving into implementation details. \n",
    "- **Contingent and Sensorless Planning:**  Addresses the need for plans that adapt to execution-time observations or operate without the need for perception, respectively, by searching in the space of belief states. \n",
    "- **Online Planning and Execution Monitoring:**  Focuses on adapting plans in response to unexpected events, inaccuracies in models, or nondeterministic action outcomes, emphasizing the need for efficient belief state management. \n",
    "- **Resource Management:**  Considers the consumption and allocation of resources, including time, by treating them as numeric measures. Specialized scheduling algorithms or integrated planning and scheduling approaches are applied to manage these resources effectively. \n",
    "- **Beyond Classical Planning:**  The chapter lays the groundwork for further exploration into planning under uncertainty, including stochastic environments and reinforcement learning, covered in later chapters.\n",
    "\n",
    "This summary encapsulates the evolution of planning from basic representations and algorithms to complex, real-world applications, highlighting the importance of adaptability, efficient resource use, and the integration of planning with scheduling to address the multifaceted challenges of automated planning."
   ]
  },
  {
   "cell_type": "markdown",
   "metadata": {},
   "source": [
    "## Bibliographical and Historical Notes: Key Concepts and Contributions\n",
    " \n",
    "- **STRIPS (Fikes and Nilsson, 1971, 1993):**  First major planning system for the Shakey robot, introducing a factored representation of states and actions inspired by GPS (General Problem Solver, Newell and Simon, 1961). \n",
    "- **ADL to PDDL (Pednault, 1986; Ghallab et al., 1998; Kovacs, 2011):**  Evolution from STRIPS to Action Description Language, then to the Problem Domain Description Language, forming the basis for the International Planning Competition since 1998. \n",
    "- **Linear Planning to Partial-order Planning (Sacerdoti, 1975; Warren, 1974; Tate, 1975a; Sussman, 1975):**  Transition from linear to partial-order planning addressing the need for interleaving actions from different subplans. \n",
    "- **Graphplan and SAT-Based Planning (Blum and Furst, 1997; Kautz et al., 1996; Ernst et al., 1997; Kautz and Selman, 1998):**  Introduction of Graphplan and SATPLAN, significantly improving planning efficiency. \n",
    "- **Hierarchical Planning (Sacerdoti, 1974, 1977; Tate, 1975b; Erol et al., 1994, 1996):**  Development of hierarchical planning and task networks, facilitating the use of high-level actions and angelic semantics. \n",
    "- **Heuristic and Online Planning (McDermott, 1996; Bonet and Geffner, 1999, 2001; Hoffmann, 2001, 2005; Helmert, 2006; Torralba et al., 2016):**  Advances in heuristic search planning and the introduction of online planning strategies for dynamic environments. \n",
    "- **Domain-Independent Heuristics (Hoffmann, 2005; Edelkamp, 2009; Haslum et al., 2007; Felner et al., 2004; Hoffmann et al., 2006; Rintanen, 2012):**  Development of techniques for domain-independent planning heuristics and the use of pattern databases. \n",
    "- **Portfolio Planning (Helmert et al., 2011; Seipp and R¨oger, 2018; Seipp et al., 2015; Vallati et al., 2015; Gomes and Selman, 2001):**  Introduction and analysis of portfolio planning systems that select or combine algorithms based on past performance. \n",
    "- **Symmetry Reduction and Forward Pruning (Sistla and Godefroid, 2004; Godefroid, 1990; Richter and Helmert, 2009):**  Techniques for reducing complexity in planning through symmetry reduction and forward pruning. \n",
    "- **Situation Calculus and Alternative Representations (McCarthy, 1963; Reiter, 2001; Cimatti et al., 1998; Vossen et al., 2001):**  Utilization of situation calculus in planning and exploration of alternative representations like binary decision diagrams. \n",
    "- **Temporal and Resource Constraints (Vere, 1983; Allen, 1984; Dean et al., 1990; Tate and Whiter, 1984; Do and Kambhampati, 2001; Haslum and Geffner, 2001):**  Addressing temporal aspects and resource management within planning problems. \n",
    "- **Contingent and Conformant Planning (Goldman and Boddy, 1996; Smith and Weld, 1998; Ferraris and Giunchiglia, 2000; Rintanen, 1999; Bonet and Geffner, 2000):**  Approaches to planning in uncertain environments, including conformant and contingent planning strategies.\n"
   ]
  },
  {
   "cell_type": "code",
   "execution_count": null,
   "metadata": {},
   "outputs": [],
   "source": [
    "#### "
   ]
  }
 ],
 "metadata": {
  "language_info": {
   "name": "python"
  }
 },
 "nbformat": 4,
 "nbformat_minor": 2
}
