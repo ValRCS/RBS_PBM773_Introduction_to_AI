{
 "cells": [
  {
   "cell_type": "markdown",
   "metadata": {},
   "source": [
    "# Chapter 11 - Automated Planning\n",
    "\n",
    "*In which we see how an agent can take advantage of the structure of a problem to efficiently\n",
    "construct complex plans of action.* - Artificial Intelligence: A Modern Approach 4th Edition by Stuart Russell and Peter Norvig"
   ]
  },
  {
   "cell_type": "markdown",
   "metadata": {},
   "source": [
    "## Introduction \n",
    "\n",
    "- The introduction to Chapter 11 of \"Artificial Intelligence: A Modern Approach\" outlines the significance of automated planning for intelligent agents. \n",
    "### Key concepts and terms  \n",
    "- **Planning problems:**  Planning involves constructing complex plans of action by understanding the problem's structure. \n",
    "- **Representation language:**  A general factored representation language for planning is introduced, designed to succinctly represent a wide variety of domains, scale efficiently to large problems, and eliminate the need for domain-specific heuristics. \n",
    "- **Hierarchical actions:**  Section 11.4 discusses extending the representation language to include hierarchical actions, enhancing the ability to solve more complex problems. \n",
    "- **Efficient algorithms:**  Covered in Section 11.2, these algorithms are crucial for planning. \n",
    "- **Heuristics:**  Discussed in Section 11.3, heuristics are essential for the efficiency of planning algorithms. \n",
    "- **Partially observable and nondeterministic domains:**  Section 11.5 addresses planning in environments where not all variables are fully observable or actions have nondeterministic outcomes. \n",
    "- **Scheduling with resource constraints:**  Section 11.6 extends the planning language to tackle scheduling issues, focusing on optimizing the allocation of limited resources. \n",
    "- **Real-world applications:**  The chapter emphasizes the relevance of these planning techniques in real-world scenarios, such as spacecraft operations, factory management, and military campaigns, highlighting the practical importance of advanced planning and scheduling capabilities."
   ]
  },
  {
   "cell_type": "markdown",
   "metadata": {},
   "source": [
    "### 11.1 Definition of Classical Planning\n",
    "- **Classical planning**  is the task of finding a sequence of actions to achieve a goal within a discrete, deterministic, static, fully observable environment. This form of planning contrasts with non-classical domains that may involve uncertainty, dynamic changes, or partial observability. \n",
    "- Previous approaches, including the **problem-solving agent**  and the **hybrid propositional logical agent** , faced limitations due to the need for domain-specific heuristics and the challenge of representing exponentially large state spaces. \n",
    "- The **Planning Domain Definition Language (PDDL)**  was introduced to address these limitations, providing a factored representation that simplifies the expression of actions and states across various domains without requiring domain-specific knowledge. PDDL supports classical planning domains and has been extended to accommodate non-classical domains. \n",
    "- A **state**  in PDDL is described as a conjunction of ground atomic fluents, representing aspects of the world that can change over time. The language adopts database semantics, including the closed-world assumption (unmentioned fluents are false) and the unique names assumption (distinct entities are assumed to be different). \n",
    "- **Action schemas**  in PDDL represent families of ground actions with specified preconditions and effects, allowing for the concise definition of actions that can be applied across different instances within a domain. These schemas enable the planning system to generate sequences of actions (plans) to achieve specific goals. \n",
    "- The execution of an action in a state results in a new state, defined by adding and removing fluents according to the action's effects. This mechanism allows for the dynamic modeling of the world's state as actions are applied. \n",
    "- The **initial state**  and **goal**  of a planning problem are defined within the PDDL framework, with the initial state specified as a conjunction of ground fluents and the goal as a conjunction of literals that may include positive and negative conditions. \n",
    "- PDDL's introduction and use in classical planning signify a significant advancement in the field of automated planning, enabling more efficient and flexible planning solutions in a variety of domains."
   ]
  },
  {
   "cell_type": "markdown",
   "metadata": {},
   "source": [
    "#### 11.1.1 Example Domain: Air Cargo Transport** \n",
    "\n",
    "The air cargo transport problem illustrates a practical application within the domain of classical planning, focusing on the tasks of loading, unloading, and transporting cargo by air. This example domain is defined by three key actions—Load, Unload, and Fly—and involves managing the locations of cargo and planes using two main predicates: \n",
    "- **In(c, p):**  Indicates that cargo \"c\" is inside plane \"p\". \n",
    "- **At(x, a):**  Denotes that object \"x\" (which can be either a plane or cargo) is at airport \"a\".\n",
    "\n",
    "A critical aspect of this domain is the proper maintenance of the At predicates, especially when planes transport cargo from one airport to another. Since PDDL does not support universal quantification directly, the solution to track cargo movement involves conceptualizing the At predicate to mean that cargo is \"available for use at a given location\" only when it is not loaded in any plane, thus ceasing to be \"At\" any location when it is \"In\" a plane and only becoming \"At\" a new location upon being unloaded.\n",
    "\n",
    "The provided plan demonstrates a sequence of actions to solve a given problem within this domain:\n",
    "1. Load cargo C1 into plane P1 at San Francisco airport (SFO).\n",
    "2. Fly plane P1 from SFO to John F. Kennedy airport (JFK).\n",
    "3. Unload cargo C1 from plane P1 at JFK.\n",
    "4. Load cargo C2 into plane P2 at JFK.\n",
    "5. Fly plane P2 from JFK back to SFO.\n",
    "6. Unload cargo C2 from plane P2 at SFO.\n",
    "\n",
    "This sequence of Load, Fly, and Unload actions effectively moves cargo between locations, showcasing the use of PDDL to model and solve complex planning problems in the air cargo transport domain."
   ]
  },
  {
   "cell_type": "markdown",
   "metadata": {},
   "source": [
    "#### 11.1.2 Example Domain: The Spare Tire Problem** \n",
    "\n",
    "The spare tire problem provides a straightforward yet illustrative example of classical planning in a domain focused on solving a common real-world issue: changing a flat tire on a car. The goal in this scenario is to replace a flat tire, currently mounted on the car's axle, with a good spare tire located in the trunk. This problem abstracts away from real-world complications such as difficult lug nuts, focusing instead on the fundamental actions required to achieve the goal.\n",
    "\n",
    "The domain defines four actions: \n",
    "1. **Remove(Flat, Axle):**  Remove the flat tire from the axle. \n",
    "2. **Remove(Spare, Trunk):**  Take the spare tire out of the trunk. \n",
    "3. **PutOn(Spare, Axle):**  Mount the spare tire onto the axle. \n",
    "4. **Leaving the car unattended overnight:**  An action assumed to result in the disappearance of the tires, highlighting a potential risk factor in the problem's environment.\n",
    "\n",
    "A viable solution to the problem, assuming the goal is to have the good spare tire mounted on the axle and avoiding the risk of leaving the car unattended, can be summarized in a sequence of actions: \n",
    "1. **Remove(Flat, Axle):**  First, the flat tire is removed from the axle. \n",
    "2. **Remove(Spare, Trunk):**  Then, the spare tire is taken out of the trunk. \n",
    "3. **PutOn(Spare, Axle):**  Finally, the spare tire is mounted on the axle in place of the flat tire.\n",
    "\n",
    "This sequence efficiently achieves the goal of replacing the flat tire with the spare, demonstrating the application of classical planning principles to a simplified yet relatable problem. The inclusion of a potential negative outcome (leaving the car unattended) adds a layer of complexity and decision-making to the problem, albeit not directly influencing the solution in this simplified version."
   ]
  },
  {
   "cell_type": "markdown",
   "metadata": {},
   "source": [
    "#### 11.1.3 Example Domain: The Blocks World** \n",
    "\n",
    "The blocks world is a classic planning domain that simplifies interaction with a set of cube-shaped blocks on a table, which can be manipulated one at a time by a robotic arm. This domain is iconic in planning research for its simplicity and the complexity of planning tasks it can generate.\n",
    "\n",
    "Key characteristics of the blocks world include: \n",
    "- **Blocks:**  Cube-shaped items that can be stacked directly on top of each other, but only one block can fit on top of another. \n",
    "- **Robot Arm:**  Capable of picking up and moving a single block at a time, it cannot move a block if another block is on top of it. \n",
    "- **Goal:**  A common goal might be to arrange the blocks in a specific configuration, such as getting block A on top of B and block B on top of C.\n",
    "\n",
    "In this domain, the **On(b, x)**  predicate indicates that block \"b\" is on \"x\", where \"x\" can be another block or the table. The **Move(b, x, y)**  action signifies moving block \"b\" from \"x\" to \"y\", with the precondition that no other block is on \"b\", represented in basic PDDL by introducing the **Clear(x)**  predicate, which is true when nothing is on \"x\".\n",
    "\n",
    "However, handling the scenario where blocks are moved to or from the table introduces complexities in maintaining the **Clear**  predicate accurately. Two adjustments are made to address these: \n",
    "1. **Action(MoveToTable(b, x)):**  An action schema for moving a block \"b\" from its position \"x\" directly to the table, adjusting the **Clear**  predicate appropriately to reflect the new state. \n",
    "2. **Interpretation of Clear(x):**  Redefined as indicating a clear space on \"x\" to hold a block, implying **Clear(Table)**  is always true, simplifying the logic for when blocks are moved onto the table.\n",
    "\n",
    "To prevent misuse of the **Move**  action when moving blocks to the table, and to refine the search space for planning, the predicate **Block(b)**  can be added to the precondition of **Move** , ensuring that both \"b\" and \"y\" are blocks.\n",
    "\n",
    "This domain exemplifies the use of PDDL in modeling and solving planning problems with physical objects and constraints, demonstrating both the power and the limitations of the language in capturing complex real-world interactions in a simplified setting."
   ]
  },
  {
   "cell_type": "markdown",
   "metadata": {},
   "source": [
    "##### Starting Block World State\n",
    "\n",
    "<img src=\"https://raw.githubusercontent.com/ValRCS/RBS_PBM773_Introduction_to_AI/main/img/ch11_automated_planning/DALL%C2%B7E%202024-02-11%2011.38.50%20-%20Illustration%20of%20Blocks%20World%20in%20Artificial%20Intelligence%20concept%2C%20featuring%20a%20table%20with%20three%20cubes%20colored%20red%2C%20black%2C%20and%20blue%20respectively%2C%20alongsi.webp\" width=\"400\">"
   ]
  },
  {
   "cell_type": "markdown",
   "metadata": {},
   "source": [
    "##### Ending Block World State\n",
    "\n",
    "<img src=\"https://raw.githubusercontent.com/ValRCS/RBS_PBM773_Introduction_to_AI/main/img/ch11_automated_planning/DALL%C2%B7E%202024-02-11%2011.44.03%20-%20Create%20an%20illustration%20of%20a%20Blocks%20World%20scenario%20featuring%20a%20table%20with%20a%20specific%20arrangement%20of%20shapes_%20a%20red%20cube%20block%20at%20the%20base%2C%20a%20blue%20cube%20b.webp\" width=\"400\">"
   ]
  },
  {
   "cell_type": "markdown",
   "metadata": {},
   "source": []
  },
  {
   "cell_type": "markdown",
   "metadata": {},
   "source": []
  },
  {
   "cell_type": "markdown",
   "metadata": {},
   "source": []
  },
  {
   "cell_type": "markdown",
   "metadata": {},
   "source": []
  },
  {
   "cell_type": "markdown",
   "metadata": {},
   "source": []
  },
  {
   "cell_type": "code",
   "execution_count": null,
   "metadata": {},
   "outputs": [],
   "source": [
    "#### "
   ]
  }
 ],
 "metadata": {
  "language_info": {
   "name": "python"
  }
 },
 "nbformat": 4,
 "nbformat_minor": 2
}
