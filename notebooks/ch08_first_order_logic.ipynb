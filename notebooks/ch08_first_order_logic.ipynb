{
 "cells": [
  {
   "cell_type": "markdown",
   "metadata": {},
   "source": [
    "# Chapter 8: First Order Logic\n",
    "\n",
    "*In which we notice that the world is blessed with many objects, some of which are related\n",
    "to other objects, and in which we endeavor to reason about them.* - Peter Norvig,Stuart Russell (Artificial Intelligence: A Modern Approach 4th Edition)\n",
    "\n",
    "- **Limitations of Propositional Logic**: It is noted that while propositional logic is useful for illustrating basic concepts, it falls short in its ability to represent the complexities of real-world situations and relationships.\n",
    "- **Introduction to First-order Logic**: First-order logic is introduced as a means of representing the world in terms of objects, properties, and relationships.\n",
    "\n",
    "- **Structure of the Chapter**:\n",
    "   - Section 8.1 discusses representation languages in general, setting the context for why first-order logic is essential.\n",
    "   - Section 8.2 delves into the syntax and semantics of first-order logic, providing the foundational knowledge required to understand and use this form of logic.\n",
    "   - Sections 8.3 and 8.4 focus on applying first-order logic to create simple representations, illustrating how it can be used in practical scenarios."
   ]
  },
  {
   "cell_type": "markdown",
   "metadata": {},
   "source": [
    "## 8.1 Representation Revisited \n",
    "\n",
    "\n",
    "- **Comparison with Programming Languages**: The section begins by comparing representation languages to programming languages like C++, Java, or Python. It notes that programming languages, through data structures, can represent facts (e.g., using an array to represent the Wumpus world in a game).\n",
    "- **Limitations of Programming Languages for Representation**: While programming languages can represent facts, they lack a general mechanism for deriving new facts from existing ones. This is because updates in data structures are managed by domain-specific procedures, which are based on the programmer's knowledge and are not universally applicable.\n",
    "- **Declarative vs. Procedural Knowledge**: The procedural nature of programming languages is contrasted with the declarative nature of propositional logic. In declarative systems, knowledge and inference are separate, and inference processes are domain-independent. SQL databases are mentioned as a mix of both declarative and procedural knowledge.\n",
    "- **Expressiveness and Handling Partial Information**: A key drawback of data structures and databases is their limited expressiveness, especially when it comes to representing partial information or complex conditions.\n",
    "- **Advantages of Propositional Logic**: Propositional logic is highlighted for its declarative nature, ability to handle partial information through disjunction and negation, and its compositionality, meaning the meaning of a sentence is determined by its parts.\n",
    "- **Limitation of Propositional Logic in Expressiveness**: Despite its advantages, propositional logic is limited in its ability to concisely describe environments with many objects. It requires separate rules for each scenario, unlike natural languages.\n",
    "- **English and First-order Logic as Structured Representations**: The section concludes by illustrating how English, similar to first-order logic, offers a structured representation that allows for more concise and comprehensive descriptions of environments, such as stating a rule generally applicable to all relevant scenarios."
   ]
  },
  {
   "cell_type": "markdown",
   "metadata": {},
   "source": [
    "### 8.1.1 The Language of Thought\n",
    "\n",
    "\n",
    "- **Expressiveness of Natural Languages**: This subsection starts by acknowledging the high expressiveness of natural languages like English or Spanish. Natural language is seen in linguistics and philosophy as a declarative knowledge representation language.\n",
    "- **Role of Natural Language in Communication**: It's emphasized that natural language primarily serves as a medium for communication rather than pure representation. The meaning of sentences in natural languages often depends on the context, making it challenging to store and retrieve their meanings in isolation.\n",
    "- **Ambiguity in Natural Languages**: Ambiguity is identified as a significant issue for natural languages when used as representation languages. The distinction between thinking and verbal expression is highlighted.\n",
    "- **Sapir-Whorf Hypothesis and Cultural Influence on Language**: The Sapir–Whorf hypothesis, which suggests that language influences thought, is discussed. While there are variations in how different cultures use language to categorize the world, the impact of language on worldview is not as strong as once thought.\n",
    "- **Memory and Language Processing**: Psychological studies show that people tend to remember the content of what they read rather than the exact words, suggesting that an internal nonverbal representation is formed from the words.\n",
    "- **Language Influencing Behavior and Perception**: Differences in languages can influence behavior and perception. For instance, speakers of languages with absolute direction terms (like Guugu Yimithirr) exhibit different navigation skills compared to those with relative direction terms.\n",
    "- **Influence of Language on Thought**: The gender of nouns in a language can affect perceptions, as shown in studies where speakers of different languages described the same object using gender-influenced attributes.\n",
    "- **Language and Cognitive Processing**: Experiments demonstrate that words can influence how people perceive events, but overall, language differences lead to minor variations in cognitive processing rather than significant worldview changes.\n",
    "- **Formal Logic and Human Brain Imaging**: Advances in brain imaging (fMRI) allow for some understanding of how the brain represents knowledge. Studies show that there is some level of common representation across people for certain words.\n",
    "- **Representation and Reasoning Efficiency**: From a formal logic perspective, representing the same knowledge in different ways doesn't change the facts that can be derived. However, in practice, the form of representation can affect the efficiency of reasoning and the outcomes of nondeductive tasks like learning from experience. This indicates that language influences thought for any agent that learns, as explored further in Chapter 19."
   ]
  },
  {
   "cell_type": "markdown",
   "metadata": {},
   "source": [
    "### 8.1.2 Combining the Best of Formal and Natural Languages\n",
    "\n",
    "\n",
    "- **Foundation of Propositional Logic**: This subsection discusses building upon the foundation of propositional logic, which is characterized by declarative, compositional semantics that are context-independent and unambiguous.\n",
    "- **Borrowing from Natural Language**: The idea is to enhance this foundation by borrowing representational elements from natural language, while avoiding its drawbacks such as ambiguity and context-dependence.\n",
    "- **Elements of Natural Language Syntax**: Focus is given to nouns and noun phrases (referring to objects), and verbs, verb phrases, adjectives, and adverbs (referring to relations among objects). Functions are highlighted as a type of relation with a unique value for a given input.\n",
    "- **Examples of Objects, Relations, and Functions**:\n",
    "   - **Objects**: Include a wide range of entities like people, numbers, colors, etc.\n",
    "   - **Relations**: Can be unary (like 'red', 'round') or n-ary (like 'bigger than', 'part of').\n",
    "   - **Functions**: Examples include 'father of', 'third inning of', etc.\n",
    "\n",
    "\n",
    "* **Asserting with Objects and Relations**: It is pointed out that almost any assertion can be thought of in terms of objects and their properties or relations. Examples provided include mathematical statements, descriptions of physical proximity, and historical facts.\n",
    "* **Role of First-order Logic**: The language of first-order logic, to be detailed in the next section, is designed around the concept of objects and relations. This makes it particularly useful in fields like mathematics, philosophy, and AI, which often deal with objects and their interrelations.\n",
    "* **Expressing General Laws and Rules**: First-order logic is capable of expressing facts about some or all objects in the universe, enabling the representation of general laws or rules. This feature allows for statements that apply broadly, like generalizations about the properties of objects related to the wumpus in a hypothetical world."
   ]
  },
  {
   "cell_type": "markdown",
   "metadata": {},
   "source": [
    "#### 8.1.2.1 Ontological Commitment\n",
    "\n",
    "\n",
    "- **Difference Between Propositional and First-Order Logic**: This subsection discusses the fundamental difference between propositional and first-order logic in terms of their ontological commitments, i.e., their assumptions about the nature of reality.\n",
    "- **Ontological Commitment in Propositional Logic**: Propositional logic assumes the existence of facts that are either true or false. Models in propositional logic assign truth values (true or false) to each proposition symbol.\n",
    "- **Ontological Commitment in First-Order Logic**: First-order logic makes a deeper assumption that the world consists of objects with specific relations among them. This creates more complex models than those for propositional logic.\n",
    "- **Strengths and Limitations of Logic**: The strength of logic (both propositional and first-order) lies in its ability to start with true statements and infer other true statements. However, it faces challenges in dealing with real-world propositions that have vague boundaries (e.g., \"Is Riga (or Vienna) a large city?\").\n",
    "- **Refining Representations and Fuzzy Logic**: One approach to address vagueness is to refine the representation with more categories or use a Population function symbol. Another approach is fuzzy logic, which assigns degrees of truth between 0 and 1 to propositions, aligning more with our intuitive conception of the world but complicating inference.\n",
    "- **Special-Purpose Logics and Higher-Order Logic**: The subsection also mentions special-purpose logics like temporal logic, which make additional assumptions about the nature of facts, such as their occurrence in time. Higher-order logic, on the other hand, treats relations and functions as objects themselves, allowing assertions about all relations and being more expressive than first-order logic.\n",
    "- **Epistemological Commitments**: A logic's epistemological commitment refers to the possible states of knowledge it allows regarding each fact. In propositional and first-order logic, an agent either believes a sentence to be true, false, or has no opinion, leading to three possible states of knowledge for any sentence.\n",
    "- **Probability Theory and Degrees of Belief**: Systems using probability theory differ as they can represent any degree of belief or subjective likelihood, ranging from total disbelief (0) to total belief (1). This should not be confused with the degree of truth in fuzzy logic, as fuzzy systems can also incorporate uncertainty about degrees of truth. For example, a probabilistic agent in the wumpus world might assign different probabilities to the wumpus being in different squares."
   ]
  },
  {
   "cell_type": "markdown",
   "metadata": {},
   "source": [
    "#### Difference between Fuzzy Logic and Degrees of Belief\n",
    "\n",
    "The difference between fuzzy logic and the degrees of belief in probability theory is a fundamental one, rooted in the distinct purposes and approaches of these two systems in handling uncertainty and imprecision.\n",
    "\n",
    "##### Fuzzy Logic\n",
    "\n",
    "- **Nature of Truth Values**: Fuzzy logic extends the traditional binary true/false values of classical logic to a continuous range between 0 and 1. This range represents degrees of truth. For example, in fuzzy logic, a statement like \"John is tall\" might not be just true or false but could be true to a degree, say 0.7.\n",
    "- **Purpose**: The purpose of fuzzy logic is to model the vagueness inherent in many real-world scenarios, where things are not just black or white but have various shades of gray. It's particularly useful in scenarios where the boundaries of concepts are not clearly defined.\n",
    "- **Handling Ambiguity**: Fuzzy logic is designed to handle the ambiguity in linguistic categorizations like \"tall,\" \"short,\" \"hot,\" \"cold,\" etc. It's about capturing the imprecision of language and categorization.\n",
    "- **Computation and Inference**: In fuzzy logic, rules and operations are defined to work with these fuzzy truth values. The inference mechanism is about combining these fuzzy truths according to these rules to reach new conclusions, which are also expressed in terms of fuzzy truth values.\n",
    "\n",
    "##### Degrees of Belief in Probability Theory\n",
    "\n",
    "- **Nature of Belief Values**: In probability theory, the degrees of belief represent a probabilistic measure of confidence in a statement's truth. These values range from 0 (total disbelief) to 1 (complete certainty). Unlike fuzzy logic, it doesn't modify the truth value of the statement itself but rather expresses the observer's confidence in the statement.\n",
    "- **Purpose**: Probability theory is used to model uncertainty due to incomplete information or inherent randomness. It's applicable in situations where outcomes are not deterministic and can vary.\n",
    "- **Handling Uncertainty**: Probability theory deals with the likelihood of various outcomes. For instance, saying \"There is a 70% chance it will rain tomorrow\" doesn't change the truth about whether it will rain or not; it just expresses a level of belief or confidence based on available information.\n",
    "- **Computation and Inference**: Probability theory involves computations like Bayes' theorem, probability distributions, etc., to update and manipulate these beliefs in the light of new evidence. The focus is on how belief in a hypothesis changes with evidence, not on the gradual nature of the truth of the hypothesis itself.\n",
    "\n",
    "##### Key Distinction\n",
    "\n",
    "- **Fuzzy Logic** deals with degrees of truth to handle the vagueness and gradation in real-world concepts.\n",
    "- **Probability Theory** deals with degrees of belief or confidence in a statement's truth, addressing uncertainty due to incomplete information or inherent randomness.\n",
    "\n",
    "Both are tools for dealing with different kinds of imprecision and uncertainty, but they approach it from different angles and are applicable in different contexts.\n",
    "\n",
    "##### Joke\n",
    "\n",
    "10% of time it works every(100%) time.\n",
    "\n",
    "We can combine fuzzy logic which represents the degree of truth with probability theory which represents the degree of belief to get a system that represents the degree of truth and the degree of belief.\n",
    "\n",
    "So we could say there is 70% chance it rains tomorrow and it will rain 60% of time (that is 60% rain tomorrow).\n"
   ]
  },
  {
   "cell_type": "markdown",
   "metadata": {},
   "source": [
    "## 8.2 Syntax and Semantics of First-Order Logic\n",
    "\n",
    "- **Ontological Commitment and Possible Worlds**: The section starts by detailing how the possible worlds in first-order logic are structured around its ontological commitment to objects and relations. This commitment is fundamental in defining how these worlds are conceptualized and interact within the logic framework.\n",
    "- **Introduction to Language Elements**: The subsection progresses to introduce and explain the various elements of first-order logic's language. Each element is presented with an emphasis on its semantic interpretation.\n",
    "- **Concise Representations**: A key point discussed is the ability of first-order logic to facilitate concise representations. This aspect is crucial for efficiently capturing complex relationships and properties in a logical framework.\n",
    "- **Semantics Leading to Sound Reasoning**: The semantics of first-order logic are explained in a way that highlights how they contribute to sound reasoning procedures. This involves understanding how the meanings of sentences are determined and how they interact logically.\n",
    "- **Focus on Precise Specification**: Throughout, there's an emphasis on precisely specifying the language and its components to ensure clarity and avoid ambiguities, thereby enabling effective reasoning and logical analysis in various applications."
   ]
  },
  {
   "cell_type": "markdown",
   "metadata": {},
   "source": [
    "<img src=\"https://github.com/ValRCS/RBS_PBM773_Introduction_to_AI/blob/main/img/ch8_first_order_logic/DALL%C2%B7E%202024-01-31%2020.18.02%20-%20Create%20an%20illustration%20of%20two%20brothers%20in%20a%20medieval%20setting.%20One%20brother%20is%20a%20king,%20sitting%20on%20a%20throne,%20wearing%20a%20crown%20and%20holding%20a%20bag%20of%20money.%20.png?raw=true\" width=\"400\">"
   ]
  },
  {
   "cell_type": "markdown",
   "metadata": {},
   "source": [
    "### 8.2.1 Models for First-Order Logic \n",
    "\n",
    "\n",
    "- **Models as Formal Structures**: The section begins by reiterating that models in logical languages represent possible worlds. They link the vocabulary of logical sentences to elements of the possible world, determining the truth of any sentence.\n",
    "- **Difference from Propositional Logic**: Unlike propositional logic, where models link proposition symbols to truth values, first-order logic models are more complex and interesting.\n",
    "- **Inclusion of Objects**: A key feature of first-order logic models is the inclusion of objects. The domain of a model in first-order logic is a set of objects, and it's required to be nonempty.\n",
    "- **Example for Clarity**: For illustration, an example is provided involving historical figures (like Richard the Lionheart and King John), their body parts, and objects like a crown.\n",
    "- **Relations Among Objects**: In these models, objects can be related in various ways. Relations are defined as sets of tuples of objects that are related. For example, brotherhood between Richard and John is represented by a set of tuples indicating their relationship.\n",
    "- **Unary and Binary Relations**: The model can have unary relations (properties applicable to a single object) and binary relations (relations between pairs of objects). Properties like \"person,\" \"king,\" and \"crown\" are unary, while relations like \"brother\" or \"on head\" are binary.\n",
    "- **Functions in Models**: Some relationships are better represented as functions, where a given object is uniquely related to another. An example is the \"left leg\" function, which maps each person to their left leg.\n",
    "- **Requirement for Total Functions**: First-order logic models require total functions, meaning there must be a value for every input tuple. This can lead to technical solutions for objects that don't naturally fit into certain functions (like assigning a \"left leg\" to objects that don't have one).\n",
    "- **Link Between Elements and Logical Vocabulary**: The final part of the model is establishing the link between these elements (objects, relations, functions) and the vocabulary of the logical sentences. This aspect is crucial for the model to serve its purpose in the logic framework.\n",
    "\n",
    "In summary, models in first-order logic are intricate structures that include objects, their properties, relations among them, and functions. These models are essential in linking the real-world elements they represent with the logical language, thereby facilitating the determination of truth in logical sentences."
   ]
  },
  {
   "cell_type": "markdown",
   "metadata": {},
   "source": [
    "### 8.2.2 Symbols and Interpretations\n",
    "\n",
    "\n",
    "- **Syntax of First-Order Logic**: This subsection introduces the basic syntactic elements of first-order logic, which include symbols representing objects, relations, and functions.\n",
    "- **Three Kinds of Symbols**:\n",
    "   - **Constant Symbols**: Stand for objects. For example, 'Richard' and 'John'.\n",
    "   - **Predicate Symbols**: Represent relations. Examples include 'Brother', 'OnHead', 'Person', 'King', and 'Crown'.\n",
    "   - **Function Symbols**: Represent functions. An example is 'LeftLeg'.\n",
    "\n",
    "<li>**Conventions and Arity**: These symbols typically begin with uppercase letters. Each predicate and function symbol is associated with an arity, determining the number of arguments it takes.<li>**Role of Interpretation**: Every model must include an interpretation that specifies which real-world entities are referred to by these symbols. The interpretation maps constant symbols to objects, function symbols to functions, and predicate symbols to relations.<li>**Example of Interpretation**: An example is provided where 'Richard' refers to Richard the Lionheart, 'Brother' refers to the brotherhood relation as defined, and 'LeftLeg' refers to a specific function mapping individuals to their left leg.<li>**Variability in Interpretations**: There are numerous possible interpretations for any set of symbols. For instance, different interpretations can map the same constant symbol to different objects.<li>**Non-Named Objects and Multiple Names**: Not all objects in a model need to have a name, and it's possible for an object to have several names in different interpretations.<li>**Structure of a Model**: A model in first-order logic consists of objects and an interpretation linking symbols to these objects. Entailment and validity are defined across all possible models.<li>**Variability in Models**: Models can vary in the number of objects they contain and how symbols map to these objects. This variability leads to a vast number of possible models.<li>**Challenge in Entailment Checking**: Due to the unbounded number of first-order models, checking entailment by enumerating all models (as in propositional logic) is not feasible. Even with a restricted number of objects, the combinations can be very large, as demonstrated by the example given.In summary, this section emphasizes the importance of symbols and their interpretations in first-order logic, illustrating how these elements create a structured and meaningful framework for representing objects, functions, and relations in logical models. The complexity and variability of these models make entailment checking a more challenging task compared to propositional logic."
   ]
  },
  {
   "cell_type": "markdown",
   "metadata": {},
   "source": [
    "### 8.2.3 Terms\n",
    "\n",
    "\n",
    "- **Definition of Terms**: In first-order logic, a term is a logical expression that refers to an object. This section focuses on explaining the nature and use of terms in the logic system.\n",
    "- **Constant Symbols as Terms**: Constant symbols are the simplest type of terms. They directly refer to objects without needing additional descriptive information.\n",
    "- **Use of Function Symbols for Terms**: Often, it's not practical or possible to have a distinct symbol for every object. For instance, rather than naming every object like \"King John's left leg,\" function symbols are used. A term like `LeftLeg(John)` is an example where the function symbol `LeftLeg` is applied to the constant symbol `John`.\n",
    "- **Structure of Complex Terms**: A complex term is formed by applying a function symbol to a list of arguments, which are themselves terms. For example, `f(t1, ..., tn)` where `f` is a function symbol and `t1, ..., tn` are terms.\n",
    "- **Nature of Complex Terms**: It's important to understand that complex terms are essentially sophisticated names. They do not function like subroutine calls in programming languages. For example, `LeftLeg` as a term doesn't \"return a value\" like a subroutine would; instead, it's a way of referring to a concept or object without needing an explicit definition.\n",
    "- **Formal Semantics of Terms**: The formal semantics of terms in first-order logic involves the function symbol referring to a function in the model, and the argument terms referring to objects in the domain. The term as a whole then refers to the object that is the output of the function applied to these objects.\n",
    "- **Example of Term Interpretation**: Using an example, if `LeftLeg` as a function symbol corresponds to a specific function and `John` refers to King John in a model, then the term `LeftLeg(John)` refers to King John’s left leg. The interpretation in the model determines the specific referent of every term.\n",
    "\n",
    "In summary, terms in first-order logic are fundamental elements that refer to objects. They can range from simple constant symbols to more complex expressions using function symbols. The semantics of terms are straightforward, with each term being a way of referring to an object in the domain based on the model's interpretation. Complex terms are not procedural calls but rather intricate labels or identifiers within the logical framework."
   ]
  },
  {
   "cell_type": "markdown",
   "metadata": {},
   "source": [
    "### 8.2.4 Atomic Sentences\n",
    "\n",
    "\n",
    "- **Combining Terms and Predicate Symbols**: This subsection explains how terms (referring to objects) and predicate symbols (referring to relations) are combined to create atomic sentences, which are the basic units of stating facts in first-order logic.\n",
    "- **Definition of Atomic Sentence**: An atomic sentence, also referred to as an atom, is a basic statement formed by a predicate symbol followed by a list of terms enclosed in parentheses. These sentences are the simplest types of sentences in first-order logic that assert facts.\n",
    "- **Example of Atomic Sentence**: For instance, `Brother(Richard, John)` is an atomic sentence. Under the previously given interpretation, it states the fact that Richard the Lionheart is the brother of King John.\n",
    "- **Use of Complex Terms in Atomic Sentences**: Atomic sentences can also include complex terms as arguments. For example, `Married(Father(Richard), Mother(John))` is an atomic sentence where the arguments are complex terms referring to the father of Richard and the mother of John.\n",
    "- **Truth Conditions of Atomic Sentences**: An atomic sentence is considered true in a given model if the relation indicated by the predicate symbol actually holds among the objects denoted by the argument terms. The truth of an atomic sentence is thus dependent on the model's interpretation of the predicate symbol and the terms.\n",
    "\n",
    "In summary, atomic sentences in first-order logic are fundamental constructs that express basic facts by combining predicate symbols and terms. These sentences are true if the relationships they purport to represent are accurate within the given model's interpretation. They can include both simple and complex terms, allowing for a versatile expression of facts."
   ]
  },
  {
   "cell_type": "markdown",
   "metadata": {},
   "source": [
    "### 8.2.5 Complex Sentences**\n",
    "\n",
    "\n",
    "- **Use of Logical Connectives**: This section focuses on the construction of complex sentences in first-order logic, which is achieved by employing logical connectives. These connectives are used in the same way as in propositional calculus, allowing the formation of more elaborate and nuanced statements.\n",
    "- **Syntax and Semantics Similar to Propositional Calculus**: The syntax and semantics of these complex sentences are consistent with those in propositional logic, ensuring a cohesive logical framework.\n",
    "- **Examples of Complex Sentences**: Several examples are provided to illustrate complex sentences under a given model and interpretation:\n",
    "   - `¬Brother(LeftLeg(Richard), John)`: This sentence negates the statement that Richard's left leg is the brother of John, demonstrating the use of negation (`¬`) in forming complex sentences.\n",
    "   - `Brother(Richard, John) ∧ Brother(John, Richard)`: Here, a conjunction (`∧`) is used to assert that Richard is the brother of John and John is the brother of Richard.\n",
    "   - `King(Richard) ∨ King(John)`: This sentence uses disjunction (`∨`) to state that either Richard or John (or both) is a king.\n",
    "   - `¬King(Richard) ⇒ King(John)`: This sentence illustrates the use of implication (`⇒`), stating that if Richard is not a king, then John is a king.\n",
    "\n",
    "In summary, complex sentences in first-order logic are formed by using logical connectives to combine simpler sentences or atomic sentences. These connectives follow the same rules as in propositional calculus, allowing for a rich and flexible expression of more sophisticated statements. The truth of these complex sentences, like atomic sentences, depends on their interpretation within a given logical model."
   ]
  },
  {
   "cell_type": "markdown",
   "metadata": {},
   "source": [
    "### 8.2.6 Quantifiers Introduction**\n",
    "\n",
    "\n",
    "- **Purpose of Quantifiers**: This subsection introduces the concept of quantifiers in first-order logic, which are essential for expressing properties or statements about entire collections of objects without the need to enumerate each object individually.\n",
    "- **Two Standard Quantifiers in First-order Logic**: First-order logic incorporates two primary types of quantifiers:\n",
    "   - **Universal Quantifier**: This quantifier is used to express that a certain property or relation holds for all objects in a domain or collection. It is typically represented by the symbol ∀ (for all).\n",
    "   - **Existential Quantifier**: This quantifier is used to express that there exists at least one object in the domain or collection for which a certain property or relation holds. It is symbolized by ∃ (there exists).\n",
    "\n",
    "The introduction of quantifiers in first-order logic significantly enhances its expressive power, allowing for the formulation of general statements about groups of objects, rather than limiting the logic to statements about specific, individually named objects."
   ]
  },
  {
   "cell_type": "markdown",
   "metadata": {},
   "source": [
    "#### 8.2.6.1 Universal Quantification (∀)\n",
    "\n",
    "\n",
    "- **Addressing Limitations of Propositional Logic**: The section begins by highlighting the limitations of propositional logic in expressing general rules and how first-order logic effectively addresses these limitations with universal quantification.\n",
    "- **Example of Universal Quantification**: The rule \"All kings are persons\" is expressed in first-order logic as `∀x King(x) ⇒ Person(x)`, where `∀` is the universal quantifier meaning \"for all.\"\n",
    "- **Variables and Their Use**: In this context, `x` is a variable (usually lowercase in first-order logic) that can represent any object in the domain. It can also serve as an argument in a function, like `LeftLeg(x)`. Terms without variables are known as ground terms.\n",
    "- **Intuitive Meaning and Formal Definition**: Intuitively, `∀x P` means that the logical sentence `P` is true for every object `x`. Formally, it's true in a model if `P` holds true under all possible extended interpretations of `x`.\n",
    "- **Extended Interpretations and Truth of Universally Quantified Sentences**: The truth of a universally quantified sentence like `∀x King(x) ⇒ Person(x)` is checked by extending the interpretation to cover all objects in the model. The sentence is true if `King(x) ⇒ Person(x)` holds under each extended interpretation.\n",
    "- **Truth Conditions and Implications**: The truth of implications in universally quantified sentences depends on the premise. If the premise (like `King(x)`) is false for an object, the implication is true regardless of the conclusion (`Person(x)`), thus making no claim about objects for which the premise is false.\n",
    "- **Mistake to Avoid - Using Conjunction Instead of Implication**: A common error is to use conjunction (`∧`) instead of implication (`⇒`) in universally quantified sentences. For instance, `∀x King(x) ∧ Person(x)` would incorrectly assert that every object, including non-kings like legs or crowns, is both a king and a person, which is not the intended meaning.\n",
    "\n",
    "In summary, universal quantification in first-order logic allows for the expression of general rules applicable to all objects in a domain. It uses a variable to represent objects and evaluates the truth of a statement for every possible object, ensuring the statement is universally applicable. Understanding the correct use of implication versus conjunction in these sentences is crucial for accurate logical representation."
   ]
  },
  {
   "cell_type": "markdown",
   "metadata": {},
   "source": [
    "### Universal Quantification - all natural numbers multiplied by 2 are even\n",
    "\n",
    "So we would use our domain of natural numbers and we would use our predicate symbol for even numbers and we would use our function symbol for multiplication and we would use our constant symbol for 2.\n",
    "\n",
    "So we would write ∀x NaturalNumber(x) ⇒ EvenNumber(Multiply(x, 2))"
   ]
  },
  {
   "cell_type": "code",
   "execution_count": 2,
   "metadata": {},
   "outputs": [
    {
     "name": "stdout",
     "output_type": "stream",
     "text": [
      "[1, 2, 3, 4, 5, 6, 7, 8, 9, 10]\n",
      "All numbers are even False\n",
      "All numbers times two are even True\n",
      "There is at least one even number among numbers from 1 to 10 True\n"
     ]
    }
   ],
   "source": [
    "### Universal quantification in Python\n",
    "\n",
    "# we can use all() to check if all elements in a list are True\n",
    "\n",
    "numbers = list(range(1, 11))\n",
    "print(numbers)\n",
    "def is_even(n):\n",
    "    return n % 2 == 0\n",
    "\n",
    "print(\"All numbers are even\", all(is_even(n) for n in numbers)) # proof by contradiction of statement\n",
    "# \"not all numbers are even\" proven above\n",
    "print(\"All numbers times two are even\", all(is_even(n * 2) for n in numbers)) # it is not proof but it is a start\n",
    "\n",
    "# how about existance quantification?\n",
    "print(\"There is at least one even number among numbers from 1 to 10\", any(is_even(n) for n in numbers))"
   ]
  },
  {
   "cell_type": "markdown",
   "metadata": {},
   "source": [
    "8.2.6.2 Existential Quantification (∃)\n",
    "\n",
    "\n",
    "- **Purpose of Existential Quantification**: Existential quantification is used to make statements about the existence of some object in the domain without specifically naming the object. It complements the universal quantifier by focusing on individual, unspecified instances rather than on every instance.\n",
    "- **Syntax and Pronunciation**: The existential quantifier is denoted as ∃x and pronounced as “There exists an x such that…” or “For some x…”.\n",
    "- **Intuitive and Formal Definitions**: Intuitively, ∃x P means that the statement P is true for at least one object x. Formally, ∃x P is true in a given model if P holds true in at least one extended interpretation where x is assigned to an object in the domain.\n",
    "- **Example of Existential Quantification**: The statement “King John has a crown on his head” can be expressed as `∃x Crown(x) ∧ OnHead(x, John)`. This statement is true if at least one object satisfies both being a crown and being on King John’s head.\n",
    "- **Appropriate Use of Logical Connectives**: While the conjunction (∧) is the natural connective to use with ∃, using implication (⇒) can lead to weak or trivial statements. For example, `∃x Crown(x) ⇒ OnHead(x, John)` would be true even if no crown is on John's head, as long as any object is not a crown, making it an overly weak statement.\n",
    "- **Caveat in Interpreting Existential Statements**: It's important to note that an existentially quantified sentence can be true even in models where the situation is more complex than the minimal requirement (e.g., King John wearing two crowns instead of just one).\n",
    "\n",
    "In summary, existential quantification in first-order logic is a powerful tool for asserting the existence of at least one object that meets certain criteria, without specifying which object. It is commonly used with the conjunction (∧) to make meaningful statements about the existence of objects with specific properties or relations. Understanding the proper application of logical connectives with existential quantification is crucial for forming accurate and non-trivial statements."
   ]
  },
  {
   "cell_type": "markdown",
   "metadata": {},
   "source": [
    "#### 8.2.6.3 Nested Quantifiers\n",
    "\n",
    "\n",
    "- **Expressing Complex Sentences**: Nested quantifiers are used in first-order logic to express more complex sentences, involving multiple layers of universal (∀) and existential (∃) quantifiers.\n",
    "- **Quantifiers of the Same Type**: When quantifiers of the same type are used consecutively, they can be combined into a single quantifier with multiple variables. For example, the statement “Brothers are siblings” is written as `∀x ∀y Brother(x, y) ⇒ Sibling(x, y)`, and can be simplified to `∀x, y Sibling(x, y) ⇔ Sibling(y, x)` to express the symmetry of siblinghood.\n",
    "- **Mixtures of Quantifiers**: Often, sentences involve a mix of universal and existential quantifiers. For example, “Everybody loves somebody” is represented as `∀x ∃y Loves(x, y)`, while “There is someone who is loved by everyone” is `∃y ∀x Loves(x, y)`.\n",
    "- **Importance of Quantifier Order**: The order in which quantifiers appear is crucial. It changes the meaning of the sentence, as seen in the examples above, where the placement of ∀ and ∃ significantly alters the sentence's interpretation.\n",
    "- **Parentheses for Clarity**: Using parentheses can help clarify the scope of each quantifier, especially in more complex sentences. For example, `∀x (∃y Loves(x, y))` suggests that for every person, there exists someone they love, while `∃y (∀x Loves(x, y))` implies the existence of a person who is loved by everyone.\n",
    "- **Avoiding Confusion with Variable Names**: Confusion can arise if the same variable name is used under different quantifiers within the same sentence. The convention is that a variable belongs to the innermost quantifier that mentions it. To avoid confusion, it's best practice to use different variable names for different quantifiers.\n",
    "- **Example of Nested Quantifiers with Same Variable**: Consider `∀x (Crown(x) ∨ (∃x Brother(Richard, x)))`. Here, the second x is governed by the existential quantifier, independent of the outer ∀x. Rewriting it with a different variable, like `∃z Brother(Richard, z)`, can help avoid confusion.\n",
    "\n",
    "In summary, nested quantifiers in first-order logic allow for the construction of complex sentences with multiple layers of quantification. The type and order of these quantifiers, along with careful use of variable names, are crucial in accurately conveying the intended meaning of these complex logical statements."
   ]
  },
  {
   "cell_type": "markdown",
   "metadata": {},
   "source": [
    "#### 8.6.2.4 Connections between ∀ and ∃**\n",
    "\n",
    "\n",
    "- **Interconnection Through Negation**: The universal (∀) and existential (∃) quantifiers in first-order logic are closely linked through the concept of negation. This connection allows for the expression of equivalent statements using either quantifier.\n",
    "- **Examples of Equivalent Statements**:\n",
    "   - Asserting that everyone dislikes parsnips (`∀x ¬Likes(x, Parsnips)`) is equivalent to asserting that there does not exist someone who likes them (`¬∃x Likes(x, Parsnips)`).\n",
    "   - Saying everyone likes ice cream (`∀x Likes(x, IceCream)`) is equivalent to saying there is no one who does not like ice cream (`¬∃x ¬Likes(x, IceCream)`).\n",
    "\n",
    "<li>**De Morgan's Laws for Quantifiers**: This connection between ∀ and ∃ reflects De Morgan's laws, which state that the negation of an existential quantifier is equivalent to a universal quantifier with negated content, and vice versa. The laws are formally expressed as:\n",
    "- ¬∃x P ≡ ∀x ¬P\n",
    "- ¬∀x P ≡ ∃x ¬P\n",
    "- ∀x P ≡ ¬∃x ¬P\n",
    "- ∃x P ≡ ¬∀x ¬P\n",
    "\n",
    "<li>**Application to Propositional Logic**: These rules also apply to unquantified sentences in propositional logic:\n",
    "- ¬(P∨Q) ≡ ¬P∧¬Q (negation of a disjunction is equivalent to the conjunction of negations)\n",
    "- ¬(P∧Q) ≡ ¬P∨¬Q (negation of a conjunction is equivalent to the disjunction of negations)\n",
    "\n",
    "<li>**Practical Considerations**: Though theoretically either ∀ or ∃ could be eliminated in favor of the other (along with either ∧ or ∨ in propositional logic), both quantifiers are retained for the sake of readability and ease of understanding in expressing logical statements.In summary, the universal and existential quantifiers in first-order logic are interrelated through negation, as exemplified by De Morgan's laws. This relationship allows for expressing logically equivalent statements using either quantifier, but both are used in practice to enhance clarity and comprehensibility in logical expressions."
   ]
  },
  {
   "cell_type": "markdown",
   "metadata": {},
   "source": [
    "### 8.2.7 Equality\n",
    "\n",
    "\n",
    "- **Equality in First-Order Logic**: Equality is an additional method in first-order logic for creating atomic sentences. It uses the equality symbol (=) to express that two terms refer to the same object.\n",
    "- **Usage of Equality Symbol**: The equality symbol allows for stating that the referents of two terms are identical. For example, `Father(John) = Henry` declares that the object referred to by `Father(John)` is the same as the object referred to by `Henry`.\n",
    "- **Interpretation and Truth Determination**: In first-order logic, an interpretation establishes the referent of any term. Therefore, the truth of an equality statement depends on whether the terms on either side of the equality symbol refer to the same object.\n",
    "- **Equality in Function Statements**: The equality symbol can be used to state facts about functions. It can also be combined with negation to indicate that two terms do not refer to the same object.\n",
    "- **Expressing Distinctness**: To express that two objects are different, negation can be used with the equality symbol. For instance, to say Richard has at least two brothers, one might write `∃x,y Brother(x, Richard) ∧ Brother(y, Richard) ∧ ¬(x = y)`.\n",
    "- **Importance of Negating Equality**: Without negating equality, a sentence like `∃x,y Brother(x, Richard) ∧ Brother(y, Richard)` might be misinterpreted to be true even if Richard has only one brother, as it could be satisfied by both x and y referring to the same brother. Adding `¬(x = y)` (or using the notation `x ≠ y`) ensures that the statement correctly implies the existence of at least two distinct brothers.\n",
    "\n",
    "In summary, the concept of equality in first-order logic is a powerful tool for asserting the identity or difference of the referents of terms. It is essential for precisely stating relationships and facts about objects, and its correct usage, especially in conjunction with negation, is crucial for accurately conveying intended meanings in logical statements."
   ]
  },
  {
   "cell_type": "markdown",
   "metadata": {},
   "source": [
    "### 8.2.8 Database Semantics\n",
    "\n",
    "\n",
    "- **Context of Example**: The example given is about representing the fact that Richard has two brothers, John and Geoffrey, in first-order logic.\n",
    "- **Limitations in Basic Representation**: A simple logical statement like `Brother(John, Richard) ∧ Brother(Geoffrey, Richard)` does not fully capture the intended meaning. It's true even in models where Richard has only one brother, and doesn't exclude the possibility of additional brothers.\n",
    "- **Complete Logical Representation**: The accurate translation of \"Richard's brothers are John and Geoffrey\" requires adding `John ≠ Geoffrey` and a universal quantifier to exclude any brothers other than John and Geoffrey: `Brother(John, Richard) ∧ Brother(Geoffrey, Richard) ∧ John ≠ Geoffrey ∧ ∀x Brother(x, Richard) ⇒ (x = John ∨ x = Geoffrey)`.\n",
    "- **Database Semantics Proposal**: To simplify such logical expressions, database semantics proposes:\n",
    "   - **Unique-Names Assumption**: Each constant symbol refers to a distinct object.\n",
    "   - **Closed-World Assumption**: Atomic sentences not known to be true are assumed false.\n",
    "   - **Domain Closure**: Each model contains only those domain elements named by the constant symbols.\n",
    "\n",
    "<li>**Implications of Database Semantics**: Under these assumptions, Equation (8.3) states that Richard has exactly two brothers. This approach is commonly used in database systems and logic programming.<li>**Comparison with Standard Semantics**: Database semantics significantly reduces the number of possible models (from infinitely many to a finite number) compared to standard first-order logic semantics. However, it requires definitive knowledge of the world's contents.<li>**No One 'Correct' Semantics**: The choice of semantics depends on the context and needs. Database semantics is useful when the identity of all objects is certain and all facts are known. However, it can be awkward in other scenarios.<li>**Use in Context**: The chapter primarily assumes standard semantics but acknowledges instances where database semantics might simplify expression, particularly in well-defined and closed knowledge domains.In summary, database semantics in first-order logic offers a more straightforward way of representing certain types of knowledge, especially in contexts like databases where assumptions about the uniqueness of names, the closed nature of the world, and the domain closure are reasonable. However, this approach might not always be suitable, particularly in more open or uncertain contexts."
   ]
  },
  {
   "cell_type": "markdown",
   "metadata": {},
   "source": [
    "## 8.3 Using First-Order Logic**\n",
    "\n",
    "\n",
    "- **Purpose of the Section**: This section focuses on practical applications of first-order logic, illustrating how to use this expressive language to represent knowledge in various domains.\n",
    "- **Definition of a Domain**: In the context of knowledge representation, a domain is defined as a specific part of the world or a subject area about which knowledge is being expressed.\n",
    "- **TELL/ASK Interface for Knowledge Bases**: The section introduces the concept of the TELL/ASK interface, which is commonly used in knowledge bases utilizing first-order logic. TELL is used to input information into the knowledge base, while ASK is used to query or retrieve information from it.\n",
    "- **Examples in Various Domains**: The section provides examples of first-order logic sentences in simple domains to demonstrate its applicability and versatility. These domains include:\n",
    "   - **Family Relationships**: Representing relationships and attributes within a family structure.\n",
    "   - **Numbers**: Using first-order logic to express numerical concepts and relations.\n",
    "   - **Sets and Lists**: Applying first-order logic to sets and lists, demonstrating its use in data structures.\n",
    "   - **Wumpus World**: An example domain from a game or puzzle scenario, where first-order logic is used to describe the state and rules of the game.\n",
    "\n",
    "<li>**Further Examples and Applications**: Section 8.4.2 is mentioned as containing a more substantial example in the domain of electronic circuits. Additionally, Chapter 10 is noted to cover a broad range of topics, essentially applying first-order logic to \"everything in the universe.\"<li>**Objective**: The overarching goal of this section is to show the practicality and effectiveness of first-order logic in encoding and reasoning about diverse types of knowledge across various domains.In summary, Section 8.3 of the book is dedicated to showcasing how first-order logic can be effectively used to represent knowledge in a range of different domains. It emphasizes the flexibility of first-order logic in handling complex information structures, from family relationships to abstract concepts like numbers and sets, as well as its applicability in specific scenarios like the wumpus world and electronic circuits. The TELL/ASK interface is introduced as a tool for interacting with knowledge bases built using first-order logic.\n"
   ]
  },
  {
   "cell_type": "markdown",
   "metadata": {},
   "source": [
    "### 8.3.1 Assertions and Queries in First-Order Logic**\n",
    "\n",
    "\n",
    "- **Adding Sentences with TELL**: In first-order logic, sentences are added to a knowledge base using the `TELL` command, similar to propositional logic. These added sentences are known as assertions. For example, asserting facts like \"John is a king,\" \"Richard is a person,\" and \"All kings are persons\" can be done using:\n",
    "   - `TELL(KB, King(John))`\n",
    "   - `TELL(KB, Person(Richard))`\n",
    "   - `TELL(KB, ∀x King(x) ⇒ Person(x))`\n",
    "\n",
    "<li>**Querying with ASK**: The knowledge base can be queried using the `ASK` command. Queries are questions asked of the knowledge base, and the system should affirmatively answer any query that is logically entailed by the knowledge base. For instance:\n",
    "\n",
    "\n",
    "- Asking if John is a king (`ASK(KB, King(John))`) returns true.\n",
    "- Given the assertions, querying if John is a person (`ASK(KB, Person(John))`) should also return true.\n",
    "\n",
    "<li>**Quantified Queries**: The system supports quantified queries like `ASK(KB, ∃x Person(x))`, which checks if there exists a person. While the answer to such a query is true, it may not provide specific information about which objects satisfy the query.\n",
    "\n",
    "<li>**Using ASK VARS for Specific Answers**: To obtain specific values or objects that satisfy a query, the function `ASK VARS` is used. It returns a stream of answers, known as substitutions or binding lists. For example:\n",
    "\n",
    "\n",
    "- `ASK VARS(KB, Person(x))` would return two answers: `{x/John}` and `{x/Richard}`, indicating that both John and Richard satisfy the query.\n",
    "\n",
    "<li>**Limitations in Certain Knowledge Bases**: `ASK VARS` is typically reserved for knowledge bases consisting of Horn clauses, where every solution binds variables to specific values. In general first-order logic, this may not always be the case. For example, if the knowledge base only knows `King(John) ∨ King(Richard)`, there is no single binding for `x` that makes `∃x King(x)` true, even though the query is factually true.\n",
    "\n",
    "In summary, this section outlines how assertions and queries are managed in first-order logic. `TELL` is used for adding factual statements to the knowledge base, while `ASK` and `ASK VARS` are employed to query this knowledge, with `ASK VARS` providing specific answers to queries that involve variables. The effectiveness of these queries can vary depending on the structure and content of the knowledge base."
   ]
  },
  {
   "cell_type": "markdown",
   "metadata": {},
   "source": [
    "### 8.3.2 The Kinship Domain\n",
    "\n",
    "\n",
    "- **Domain Overview**: This section explores the domain of family relationships, also known as kinship. It involves representing facts and rules about family members and their relationships.\n",
    "- **Objects and Predicates**: The primary objects in this domain are people. Unary predicates such as `Male` and `Female` describe individual attributes. Kinship relations like parenthood, brotherhood, and marriage are represented by binary predicates including `Parent`, `Sibling`, `Brother`, `Sister`, `Child`, `Daughter`, `Son`, `Spouse`, `Wife`, `Husband`, `Grandparent`, `Grandchild`, `Cousin`, `Aunt`, and `Uncle`.\n",
    "- **Use of Functions**: Functions like `Mother` and `Father` are used since each person biologically has exactly one of each, although additional functions could be introduced for non-biological relationships.\n",
    "- **Representation of Relationships**: The kinship domain involves defining relationships through logical statements. For example:\n",
    "   - A mother is a female parent: `∀m,c Mother(c)=m ⇔ Female(m)∧Parent(m,c)`.\n",
    "   - A husband is a male spouse: `∀w,h Husband(h,w) ⇔ Male(h)∧Spouse(h,w)`.\n",
    "   - Parent and child are inverse relations: `∀p,c Parent(p,c) ⇔ Child(c,p)`.\n",
    "   - A grandparent is a parent of one's parent: `∀g,c Grandparent(g,c) ⇔ ∃p Parent(g,p)∧Parent(p,c)`.\n",
    "   - Sibling relationships: `∀x,y Sibling(x,y) ⇔ x ≠ y∧∃p Parent(p,x)∧Parent(p,y)`.\n",
    "\n",
    "<li>**Axioms and Definitions**: These sentences are viewed as axioms in the kinship domain, defining various predicates and functions. The definitions use a basic set of predicates to define more complex ones.\n",
    "\n",
    "<li>**Theorems and Practical Implications**: Some logical sentences about the domain are theorems, derived from the axioms. For example, siblinghood being symmetric is a theorem from the siblinghood axiom. Theorems help reduce computational cost in deriving new sentences.\n",
    "\n",
    "<li>**Partial Definitions and Plain Facts**: Not all axioms are complete definitions; some provide general information or are partial specifications. Additionally, plain facts like `Male(Jim)` and `Spouse(Jim,Laura)` describe specific instances and enable specific queries.\n",
    "\n",
    "<li>**Identifying Missing Axioms**: Sometimes, expected logical conclusions are not derived, indicating missing axioms. For example, inferring `¬Spouse(George,Laura)` from `Spouse(Jim,Laura)` might require additional axioms.\n",
    "\n",
    "In summary, the kinship domain in first-order logic encompasses a range of family relationships, represented through a mixture of unary and binary predicates, functions, axioms, and theorems. This domain illustrates the depth and complexity involved in encoding real-world relationships into logical structures, highlighting the need for careful definition and the potential for missing axioms in more complex scenarios.\n"
   ]
  },
  {
   "cell_type": "markdown",
   "metadata": {},
   "source": [
    "### 8.3.3 Numbers, Sets, and Lists\n",
    "\n",
    "\n",
    "- **Numbers**: The section on numbers in first-order logic primarily discusses the theory of natural numbers or nonnegative integers, building from a small set of Peano axioms. Essential components include:\n",
    "   - A predicate `NatNum` for natural numbers.\n",
    "   - A constant symbol `0` for zero.\n",
    "   - A function symbol `S` (successor), where `S(n)` represents the natural number following `n`.\n",
    "   - Recursive definition: `0` is a natural number, and if `n` is a natural number, so is `S(n)`.\n",
    "   - Constraints on the successor function to ensure uniqueness.\n",
    "   - Definition of addition in terms of the successor function.\n",
    "   - Introduction of infix notation and syntactic sugar for readability.\n",
    "\n",
    "<li>**Sets**: In the domain of sets, the section describes:\n",
    "\n",
    "\n",
    "- Basic axioms to define sets, including the empty set.\n",
    "- Unary predicate `Set`, and binary predicates like `∈` (membership) and `⊆` (subset).\n",
    "- Binary functions for intersection `∩`, union `∪`, and `Add(x, s)` (adding an element to a set).\n",
    "- Axioms for set properties, including membership, subset, equality of sets, intersection, and union.\n",
    "\n",
    "<li>**Lists**: Lists, in contrast to sets, are ordered collections where elements can repeat. The section covers:\n",
    "\n",
    "\n",
    "- Vocabulary from Lisp programming language for lists.\n",
    "- Constants and functions like `Nil` (empty list), `Cons`, `Append`, `First`, `Rest`, and `Find`.\n",
    "- Predicate `List` for identifying lists.\n",
    "- Use of syntactic sugar for list representation.\n",
    "\n",
    "In summary, this section of the book outlines how first-order logic can represent and handle fundamental mathematical and data structures: natural numbers, sets, and lists. Each structure is defined through specific axioms, predicates, and functions, with an emphasis on clarity and practical readability through syntactic sugar and infix notation. The approach showcases the versatility and expressiveness of first-order logic in capturing complex structures and relationships inherent in these domains."
   ]
  },
  {
   "cell_type": "markdown",
   "metadata": {},
   "source": [
    "### 8.3.4 The Wumpus World\n",
    "\n",
    "\n",
    "- **Background**: The Wumpus World is a fictional environment used for illustrating concepts in artificial intelligence, specifically logic-based knowledge representation. In Chapter 7, propositional logic axioms were used to describe this world.\n",
    "- **Advantage of First-Order Logic**: The first-order logic axioms introduced in this section for the Wumpus World are noted for their conciseness and natural expression. They provide a more efficient way to capture the rules and relationships within the Wumpus World than propositional logic.\n",
    "- **Key Points**:\n",
    "   - **Conciseness**: First-order logic allows for a more succinct representation of the Wumpus World compared to propositional logic. It achieves this efficiency by directly expressing relationships and rules that are more complex or cumbersome to state in propositional logic.\n",
    "   - **Natural Expression**: The axioms in first-order logic are closer to natural language and intuitive understanding, making them easier to comprehend and apply.\n",
    "   - **Efficient Representation**: The move from propositional to first-order logic in describing the Wumpus World demonstrates the power of first-order logic in handling complex environments and scenarios, offering a more practical and expressive framework.\n",
    "\n",
    "In summary, this section emphasizes the advantages of using first-order logic over propositional logic in representing environments like the Wumpus World. It highlights the enhanced expressiveness and efficiency of first-order logic in capturing complex logical relationships and rules in a way that is both concise and closer to natural language understanding."
   ]
  },
  {
   "cell_type": "markdown",
   "metadata": {},
   "source": [
    "## 8.4 Knowledge Engineering in First-Order Logic\n",
    "\n",
    "\n",
    "- **Overview of Knowledge Engineering**: This section delves into the process of knowledge-base construction, known as knowledge engineering. Knowledge engineering involves creating a formal representation of a specific domain, identifying key concepts, objects, and relations that are important in that domain.\n",
    "- **Role of Knowledge Engineer**: A knowledge engineer is responsible for investigating a domain, understanding its crucial elements, and then developing a formal representation of these elements in a knowledge base. This process requires a deep understanding of both the domain and the principles of knowledge representation.\n",
    "- **Application in Electronic Circuit Domain**: The section illustrates the knowledge engineering process through an example in the domain of electronic circuits. The approach is tailored to developing specialized knowledge bases with well-defined boundaries and known query requirements.\n",
    "- **Suitability for Specific Domains**: The method described is particularly suited for constructing special-purpose knowledge bases focused on specific areas. These knowledge bases are designed with a clear understanding of the domain's scope and the types of queries they need to support.\n",
    "- **Contrast with General-Purpose Knowledge Bases**: The section distinguishes the process from the development of general-purpose knowledge bases. General-purpose bases cover a wide range of human knowledge and are aimed at tasks like natural language understanding. These are discussed in more detail in Chapter 10.\n",
    "- **Focus on First-Order Logic**: Throughout, the focus is on utilizing first-order logic as the tool for knowledge representation. First-order logic provides the necessary expressiveness and flexibility to accurately model complex relationships within a domain.\n",
    "\n",
    "In summary, this section of the book outlines the practice of knowledge engineering in the context of first-order logic. It emphasizes the role of a knowledge engineer in thoroughly understanding and formally representing a specific domain, using the electronic circuit domain as an illustrative example. The section also makes a distinction between special-purpose and general-purpose knowledge bases, noting that the discussed approach is more suited to the former.\n"
   ]
  },
  {
   "cell_type": "markdown",
   "metadata": {},
   "source": [
    "### 8.4.1 The Knowledge Engineering Process**\n",
    "\n",
    "\n",
    "- **Overview**: This section outlines the general process of knowledge engineering for creating a knowledge base in first-order logic. The process involves several key steps, each crucial for successfully developing a functional and accurate knowledge base.\n",
    "- **Identify the Questions**: The first step involves defining the scope of the knowledge base by identifying the questions it needs to answer and the kinds of facts available for each problem instance. This is similar to defining the goals and environment for an agent (the PEAS process).\n",
    "- **Assemble Relevant Knowledge**: This step requires gathering domain-specific knowledge, either from the knowledge engineer's expertise or through collaboration with domain experts. This knowledge is initially gathered informally to understand the domain's scope and functioning.\n",
    "- **Decide on Vocabulary**: The next step is to translate domain-level concepts into logic-level terms, deciding on predicates, functions, and constants. This involves making choices about how to represent concepts in the domain, creating an ontology that defines the types of entities that exist.\n",
    "- **Encode General Knowledge**: Axioms are written for all vocabulary terms to define their meanings and relationships. This step often reveals gaps or misconceptions in the ontology, requiring iteration and refinement.\n",
    "- **Encode Problem Instance Description**: If the ontology is well-designed, describing specific problem instances becomes straightforward. It involves writing atomic sentences about instances already defined in the ontology.\n",
    "- **Pose Queries and Get Answers**: The inference procedure is used to derive answers from the axioms and problem-specific facts. This step tests the knowledge base's ability to provide correct and relevant information.\n",
    "- **Debug and Evaluate**: The knowledge base is unlikely to be perfect on the first attempt. Debugging involves identifying missing or incorrect axioms and ensuring the knowledge base accurately represents the domain. Formal evaluation through a test suite of queries is crucial for assessing the knowledge base's accuracy and completeness.\n",
    "- **Example Domain - Electronic Circuits**: To illustrate the process, the section applies these steps to the domain of electronic circuits, highlighting the practical application of knowledge engineering in a specific and complex domain.\n",
    "\n",
    "In summary, the knowledge engineering process in first-order logic is a structured approach involving the identification of relevant questions, assembly of domain knowledge, vocabulary selection, axiom encoding, problem instance description, query processing, and rigorous debugging and evaluation. This process is exemplified through its application in the domain of electronic circuits, showcasing the steps necessary to build a robust and functional knowledge base."
   ]
  },
  {
   "cell_type": "markdown",
   "metadata": {},
   "source": [
    "8.4.2 The Electronic Circuits Domain**\n",
    "\n",
    "\n",
    "- **Domain Overview**: The section focuses on developing a knowledge base for reasoning about digital circuits, such as the one illustrated in Figure 8.6. The process follows the seven-step knowledge engineering approach.\n",
    "- **Identify the Questions**: Key reasoning tasks for the electronic circuits domain include:\n",
    "   - **Functional Analysis**: Determining the circuit's functionality, such as verifying if a circuit adds correctly or predicting outputs based on given inputs.\n",
    "   - **Structural Analysis**: Examining the circuit's structure, like identifying all gates connected to a particular input or checking for feedback loops.\n",
    "\n",
    "<li>**Tasks in Focus**: The tasks chosen for this section are the analysis of the circuit's functionality and structure. These tasks represent high-level questions that a knowledge base for digital circuits should be able to answer.\n",
    "\n",
    "<li>**Additional Analysis Levels**: The domain of electronic circuits can also encompass more detailed levels of analysis, such as timing delays, circuit area, power consumption, and production costs. Addressing these levels would necessitate incorporating additional knowledge into the knowledge base.\n",
    "\n",
    "In summary, the electronic circuits domain in knowledge engineering is about creating a knowledge base that can effectively reason about digital circuits, focusing on both their functionality and structure. The section indicates that while the current focus is on these high-level tasks, the domain can be extended to more detailed aspects of circuit analysis, each requiring its expansion of knowledge.\n",
    "\n",
    "#### **Assemble the Relevant Knowledge**\n",
    "\n",
    "\n",
    "- **Basic Components of Digital Circuits**: The essential elements of digital circuits include wires and gates. Signals flow along wires and are processed by gates, which produce output signals. Understanding digital circuits requires knowledge of how different gates transform input signals.\n",
    "- **Types of Gates**: There are four main types of gates:\n",
    "   - AND, OR, XOR gates, each with two input terminals.\n",
    "   - NOT gates with one input terminal.\n",
    "   - All gates have one output terminal.\n",
    "   - Circuits, like gates, have input and output terminals.\n",
    "\n",
    "<li>**Focus on Connections Over Physical Attributes**: In reasoning about functionality and connectivity, the focus is on the connections between terminals, rather than the physical attributes of wires or the path they take. Aspects like size, shape, color, or cost of components are irrelevant for this analysis.\n",
    "\n",
    "<li>**Different Ontologies for Different Purposes**: The ontology would change if the purpose were different, such as debugging faulty circuits (where wires would be included) or resolving timing faults (including gate delays).\n",
    "\n",
    "<li>**Vocabulary for Digital Circuits**:\n",
    "\n",
    "\n",
    "- **Circuits and Gates**: Identified by predicates (e.g., `Gate(X1)`, `Circuit(C1)`). Each gate is represented as an object and identified by a constant.\n",
    "- **Types of Gates**: The type of each gate (AND, OR, XOR, NOT) is represented by a function, such as `Type(X1) = XOR`.\n",
    "- **Terminals**: Identified by the predicate `Terminal(x)`. Functions like `In(n, X1)` and `Out(n, c)` denote input and output terminals, respectively.\n",
    "- **Arity Function**: `Arity(c, i, j)` indicates the number of input and output terminals for a circuit.\n",
    "- **Connectivity**: Represented by a predicate like `Connected`, which relates two terminals (e.g., `Connected(Out(1, X1), In(1, X2))`).\n",
    "- **Signal Values**: Instead of using a unary predicate for signal status, objects representing signal values (1 for \"on\", 0 for \"off\") are introduced, along with a function `Signal(t)` to denote the signal value at terminal `t`.\n",
    "\n",
    "#### **Encode General Knowledge of the Domain**\n",
    "\n",
    "\n",
    "- **Efficiency of Ontology**: A well-constructed ontology for digital circuits should allow for the expression of general rules in a clear and concise manner. The following axioms encapsulate the essential knowledge of the domain:\n",
    "\n",
    "\n",
    "- **Signal Consistency in Connected Terminals**: If two terminals are connected, they have the same signal.\n",
    "   - `∀t1, t2 Terminal(t1) ∧ Terminal(t2) ∧ Connected(t1, t2) ⇒ Signal(t1) = Signal(t2)`\n",
    "- **Binary Signal Values**: Every terminal's signal is either 1 or 0.\n",
    "   - `∀t Terminal(t) ⇒ Signal(t) = 1 ∨ Signal(t) = 0`\n",
    "- **Commutativity of Connection**: The connection between two terminals is commutative.\n",
    "   - `∀t1, t2 Connected(t1, t2) ⇔ Connected(t2, t1)`\n",
    "- **Gate Types**: There are four types of gates - AND, OR, XOR, and NOT.\n",
    "   - `∀g Gate(g) ∧ k = Type(g) ⇒ k = AND ∨ k = OR ∨ k = XOR ∨ k = NOT`\n",
    "- **AND Gate Logic**: An AND gate outputs 0 if any of its inputs is 0.\n",
    "   - `∀g Gate(g) ∧ Type(g) = AND ⇒ (Signal(Out(1, g)) = 0 ⇔ ∃n Signal(In(n, g)) = 0)`\n",
    "- **OR Gate Logic**: An OR gate outputs 1 if any of its inputs is 1.\n",
    "   - `∀g Gate(g) ∧ Type(g) = OR ⇒ (Signal(Out(1, g)) = 1 ⇔ ∃n Signal(In(n, g)) = 1)`\n",
    "- **XOR Gate Logic**: An XOR gate outputs 1 if its inputs are different.\n",
    "   - `∀g Gate(g) ∧ Type(g) = XOR ⇒ (Signal(Out(1, g)) = 1 ⇔ Signal(In(1, g)) ≠ Signal(In(2, g)))`\n",
    "- **NOT Gate Logic**: A NOT gate outputs a signal different from its input.\n",
    "   - `∀g Gate(g) ∧ Type(g) = NOT ⇒ (Signal(Out(1, g)) ≠ Signal(In(1, g)))`\n",
    "- **Gate Arity (Inputs and Outputs)**: Gates have specific numbers of inputs and outputs.\n",
    "   - `∀g Gate(g) ∧ Type(g) = NOT ⇒ Arity(g, 1, 1)`\n",
    "   - `∀g Gate(g) ∧ k = Type(g) ∧ (k = AND ∨ k = OR ∨ k = XOR) ⇒ Arity(g, 2, 1)`\n",
    "- **Circuit Terminals**: A circuit's terminals are up to its input and output arity.\n",
    "   - `∀c, i, j Circuit(c) ∧ Arity(c, i, j) ⇒ (∀n (n ≤ i ⇒ Terminal(In(n, c))) ∧ (n > i ⇒ In(n, c) = Nothing) ∧ (∀n (n ≤ j ⇒ Terminal(Out(n, c))) ∧ (n > j ⇒ Out(n, c) = Nothing))`\n",
    "- **Distinction Among Gates, Terminals, and Signals**: Gates, terminals, and signals are distinct from each other.\n",
    "   - `∀g, t, s Gate(g) ∧ Terminal(t) ∧ Signal(s) ⇒ (g ≠ t ∧ g ≠ s ∧ t ≠ s)`\n",
    "- **Gates as Circuits**: Every gate is also a circuit.\n",
    "   - `∀g Gate(g) ⇒ Circuit(g)`"
   ]
  },
  {
   "cell_type": "markdown",
   "metadata": {},
   "source": [
    "#### **Encode the Specific Problem Instance**\n",
    "\n",
    "\n",
    "- **Description of Circuit C1**: The circuit illustrated in Figure 8.6 is represented as circuit C1 in the knowledge base. The encoding process involves categorizing the circuit and its components and then describing their connections.\n",
    "- **Categorization of Circuit and Gates**:\n",
    "   - The circuit is identified as `Circuit(C1)` with a certain arity: `Arity(C1, 3, 2)`, indicating it has three input terminals and two output terminals.\n",
    "   - Each gate within the circuit is categorized by type:\n",
    "      - XOR gates: `Gate(X1) ∧ Type(X1) = XOR` and `Gate(X2) ∧ Type(X2) = XOR`.\n",
    "      - AND gates: `Gate(A1) ∧ Type(A1) = AND` and `Gate(A2) ∧ Type(A2) = AND`.\n",
    "      - OR gate: `Gate(O1) ∧ Type(O1) = OR`.\n",
    "   \n",
    "<li>**Connections Between Components**:\n",
    "\n",
    "\n",
    "- The connections between gates and the circuit's terminals are specified:\n",
    "   - Connections from the output of one gate to the input of another, e.g., `Connected(Out(1, X1), In(1, X2))`.\n",
    "   - Connections between the circuit's input terminals and the gates' input terminals, e.g., `Connected(In(1, C1), In(1, X1))`.\n",
    "   - Connections from gates' outputs to the circuit's output terminals, e.g., `Connected(Out(1, X2), Out(1, C1))`.\n",
    "\n",
    "This encoding step in the knowledge engineering process translates the physical layout and connections of an electronic circuit into a formal representation in first-order logic. By specifying the types of gates, their arity, and how they are connected within the circuit, a clear and structured description of the circuit's design is created in the knowledge base. This allows for subsequent logical reasoning about the circuit's functionality based on the encoded information."
   ]
  },
  {
   "cell_type": "markdown",
   "metadata": {},
   "source": [
    "#### **Pose Queries to the Inference Procedure**\n",
    "\n",
    "\n",
    "- **Query for Specific Output Combinations**: The first query posed to the inference procedure concerns identifying input combinations that lead to specific outputs in circuit C1. The query aims to find the input combinations where the first output (sum bit) is 0 and the second output (carry bit) is 1. The formal query is expressed as:\n",
    "   - `∃i1, i2, i3 Signal(In(1, C1)) = i1 ∧ Signal(In(2, C1)) = i2 ∧ Signal(In(3, C1)) = i3 ∧ Signal(Out(1, C1)) = 0 ∧ Signal(Out(2, C1)) = 1`\n",
    "   - The answers provided by `ASK VARS` include substitutions for the variables `i1`, `i2`, and `i3` that satisfy these conditions, such as `{i1/1, i2/1, i3/0}`, `{i1/1, i2/0, i3/1}`, and `{i1/0, i2/1, i3/1}`.\n",
    "\n",
    "<li>**Query for All Possible Terminal Values**: The second query aims to determine all possible sets of values for all the terminals of the adder circuit, effectively creating an input-output table for the circuit. This query is comprehensive and can be used for circuit verification. It is expressed as:\n",
    "\n",
    "\n",
    "- `∃i1, i2, i3, o1, o2 Signal(In(1, C1)) = i1 ∧ Signal(In(2, C1)) = i2 ∧ Signal(In(3, C1)) = i3 ∧ Signal(Out(1, C1)) = o1 ∧ Signal(Out(2, C1)) = o2`\n",
    "- This query returns a complete table of input and output combinations for the adder circuit, which can be used to verify its correct functioning.\n",
    "\n",
    "<li>**Application and Verification**: These types of queries not only provide specific answers for a given circuit but also illustrate how first-order logic can be used for verifying the functionality of digital systems. The process can be extended to larger digital systems, allowing for similar verification procedures.\n",
    "\n",
    "<li>**Structured Knowledge-Base Development**: The approach taken in these queries reflects a broader method in knowledge engineering, where complex concepts are defined and understood based on simpler, underlying concepts. This structured development is applicable to many domains beyond digital circuits.\n",
    "\n",
    "In summary, posing queries to the inference procedure in the domain of digital circuits involves formulating specific questions in first-order logic to determine the functionality and verify the correct operation of the circuits. This approach showcases the utility of first-order logic in structured knowledge-base development, enabling the verification of complex systems based on defined logical rules and relationships."
   ]
  },
  {
   "cell_type": "markdown",
   "metadata": {},
   "source": [
    "## Chapter Summary\n",
    "\n",
    "- **Introduction of First-Order Logic**: The chapter presents first-order logic as a more powerful alternative to propositional logic for knowledge representation.\n",
    "- **Key Characteristics of Knowledge Representation Languages**: Emphasizes that these languages should be declarative, compositional, expressive, context-independent, and unambiguous.\n",
    "- **Ontological and Epistemological Commitments**: First-order logic extends beyond propositional logic by committing to the existence of objects and relations, enhancing its expressive power. This is particularly useful in domains like the wumpus world and electronic circuits.\n",
    "- **Limitation in Representing Vague Propositions**: Both propositional and first-order logic struggle with vague propositions, which limits their use in areas requiring subjective judgment, such as politics or cuisine.\n",
    "- **Syntax Enhancements over Propositional Logic**: First-order logic adds terms to represent objects and includes universal and existential quantifiers for making assertions about variable values.\n",
    "- **Models in First-Order Logic**: A model consists of a set of objects and an interpretation that maps constant symbols to objects, predicate symbols to relations, and function symbols to functions on objects.\n",
    "- **Truth of Atomic and Quantified Sentences**: Atomic sentences are true when their predicates' relations hold between the specified objects. Quantified sentences' truth is determined by extended interpretations that map variables to objects in the model.\n",
    "- **Knowledge Base Development Process**: Developing a knowledge base involves domain analysis, vocabulary selection, and encoding axioms to support desired inferences.\n",
    "\n",
    "In summary, this chapter introduces first-order logic as a sophisticated tool for knowledge representation, outlining its key features, syntax, and the process for creating effective knowledge bases. It highlights the enhanced capabilities of first-order logic compared to propositional logic, particularly its ability to handle complex domains, while also acknowledging its limitations in dealing with vague or subjective content."
   ]
  },
  {
   "cell_type": "markdown",
   "metadata": {},
   "source": [
    "## Bibliographical and Historical Notes\n",
    "\n",
    "- **Historical Development of First-Order Logic**: Aristotle's logic, focusing on one-place predicates, lacked the expressive power of first-order logic. Augustus De Morgan and Charles Sanders Peirce made significant contributions to the logic of relations.\n",
    "- **Quantifiers and Modern Notation**: Gottlob Frege introduced quantifiers, foundational to first-order logic, in his \"Begriffschrift.\" Peirce developed similar ideas independently. The current notation for first-order logic is largely due to Giuseppe Peano.\n",
    "- **Model Theory and Equality**: Leopold Löwenheim developed the systematic treatment of model theory, including treatment of the equality symbol in first-order logic, further extended by Thoralf Skolem. Alfred Tarski defined truth and model-theoretic satisfaction using set theory.\n",
    "- **Introduction to AI and Key Developments**: John McCarthy introduced first-order logic to AI. The development of resolution by Robinson was a significant advancement. Cordell Green, Zohar Manna, Richard Waldinger, and Michael Genesereth applied first-order logic in various contexts, from logical robots to circuit reasoning.\n",
    "- **Logic Programming and Computational Logic**: Logic programming, particularly in linguistic analysis and declarative systems, was developed in Europe. Computational logic also gained prominence in Edinburgh.\n",
    "- **Practical Applications**: First-order logic has been applied in diverse areas, including manufacturing requirements for electronics, digital rights management, and Web service composition.\n",
    "- **Language, Thought, and Learning Theories**: The Whorf hypothesis and theories about language's influence on thought and learning, such as the “theory” theory, highlight the role of linguistic environment in shaping understanding.\n",
    "- **Introductory Texts and Advanced Topics**: Several texts provide introductions to first-order logic, including works by Tarski, Church, Quine, Enderton, and others. Genesereth and Nilsson's book is notable for its treatment of logical agents.\n",
    "- **Journals and Handbooks**: \"Journal of Symbolic Logic\" and \"Journal of Applied Logic\" are key publications in the field, with the latter focusing on AI-related aspects. The \"Handbook of Knowledge Representation\" is a comprehensive resource on the topic."
   ]
  },
  {
   "cell_type": "markdown",
   "metadata": {},
   "source": []
  },
  {
   "cell_type": "markdown",
   "metadata": {},
   "source": []
  }
 ],
 "metadata": {
  "kernelspec": {
   "display_name": "Python 3",
   "language": "python",
   "name": "python3"
  },
  "language_info": {
   "codemirror_mode": {
    "name": "ipython",
    "version": 3
   },
   "file_extension": ".py",
   "mimetype": "text/x-python",
   "name": "python",
   "nbconvert_exporter": "python",
   "pygments_lexer": "ipython3",
   "version": "3.12.1"
  }
 },
 "nbformat": 4,
 "nbformat_minor": 2
}
