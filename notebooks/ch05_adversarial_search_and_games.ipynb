{
 "cells": [
  {
   "cell_type": "markdown",
   "metadata": {},
   "source": [
    "# Adversarial Search and Games\n",
    "\n",
    "From: [Artificial Intelligence: A Modern Approach](http://aima.cs.berkeley.edu/) by Stuart Russell and Peter Norvig.\n",
    "\n",
    "Note:\n",
    "\n",
    "- Chapter 5 in US edition.\n",
    "- Chapter 6 in International (Global) edition."
   ]
  }
 ],
 "metadata": {
  "language_info": {
   "name": "python"
  }
 },
 "nbformat": 4,
 "nbformat_minor": 2
}
