{
 "cells": [
  {
   "cell_type": "markdown",
   "metadata": {},
   "source": [
    "# Chapter 9 - Inference in First-Order Logic\n",
    "\n",
    "In this chapter, we will discuss how to perform inference in first-order logic. We will discuss the following topics:\n",
    "\n",
    "- Unification\n",
    "- Forward chaining\n",
    "- Backward chaining\n",
    "- Resolution\n"
   ]
  },
  {
   "cell_type": "markdown",
   "metadata": {},
   "source": []
  },
  {
   "cell_type": "markdown",
   "metadata": {},
   "source": []
  }
 ],
 "metadata": {
  "kernelspec": {
   "display_name": "Python 3",
   "language": "python",
   "name": "python3"
  },
  "language_info": {
   "name": "python",
   "version": "3.11.4"
  }
 },
 "nbformat": 4,
 "nbformat_minor": 2
}
