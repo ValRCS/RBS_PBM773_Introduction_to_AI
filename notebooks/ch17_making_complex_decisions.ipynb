{
 "cells": [
  {
   "cell_type": "markdown",
   "metadata": {},
   "source": [
    "# Chapter 17 - Making Complex Decisions\n",
    "\n",
    "*In which we examine methods for deciding what todo today, given that we may face another\n",
    "decision tomorrow* - Peter Norvig and Stuart Russell in Artificial Intelligence: A Modern Approach"
   ]
  },
  {
   "cell_type": "markdown",
   "metadata": {},
   "source": [
    "## **Introduction** \n",
    "- Focus on methods for making decisions today that account for potential future decisions.\n",
    "- Addresses computational issues in decision-making within stochastic environments, contrasting with one-shot decision problems discussed in Chapter 16.\n",
    "- Emphasizes sequential decision problems where an agent's utility depends on a series of decisions, integrating utilities, uncertainty, sensing, and encompassing search and planning problems. \n",
    "- Outlines the structure of the chapter:\n",
    "- Section 17.1: Definition of sequential decision problems.\n",
    "- Section 17.2: Methods for solving sequential decision problems suitable for stochastic environments.\n",
    "- Section 17.3: Discussion on multi-armed bandit problems, highlighting their significance and prevalence.\n",
    "- Section 17.4: Examination of decision problems in partially observable environments.\n",
    "- Section 17.5: Strategies for solving problems in partially observable contexts"
   ]
  },
  {
   "cell_type": "markdown",
   "metadata": {},
   "source": []
  },
  {
   "cell_type": "markdown",
   "metadata": {},
   "source": []
  },
  {
   "cell_type": "markdown",
   "metadata": {},
   "source": []
  },
  {
   "cell_type": "markdown",
   "metadata": {},
   "source": []
  },
  {
   "cell_type": "code",
   "execution_count": null,
   "metadata": {},
   "outputs": [],
   "source": []
  }
 ],
 "metadata": {
  "language_info": {
   "name": "python"
  }
 },
 "nbformat": 4,
 "nbformat_minor": 2
}
