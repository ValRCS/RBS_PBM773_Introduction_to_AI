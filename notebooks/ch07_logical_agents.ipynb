{
 "cells": [
  {
   "cell_type": "markdown",
   "metadata": {},
   "source": [
    "#  Chapter 7 - \"Logical Agents\"\n",
    "\n",
    "\n",
    "- **Knowledge-based agents in AI**: These agents use reasoning over an internal representation of knowledge to decide actions. This contrasts with the limited knowledge of problem-solving agents in earlier chapters, which know only available actions and their specific outcomes.\n",
    "- **Limitations of Problem-Solving Agents**: Traditional problem-solving agents lack general facts knowledge. Examples include a route-finding agent not knowing the impossibility of negative road lengths or an 8-puzzle agent unaware that two tiles cannot occupy the same space.\n",
    "- **Atomic Representations and Limitations**: In partially observable environments, problem-solving agents struggle, as they must list all possible concrete states. This is less efficient compared to human-like understanding and goal setting.\n",
    "- **Development of Factored Representations**: Chapter 6 introduced states represented as assignments of values to variables, a step towards domain-independent functioning and more efficient algorithms.\n",
    "- **Logic as a Representation for Knowledge-Based Agents**: This chapter explores logic as a general class of representations, allowing agents to combine information for various purposes. These agents can handle new tasks, quickly adapt to new knowledge, and adjust to environmental changes.\n",
    "- **Chapter Structure and Content**:\n",
    "   - Section 7.1 discusses the overall design of knowledge-based agents.\n",
    "   - Section 7.2 introduces a new environment, the wumpus world, as a practical example.\n",
    "   - Sections 7.3 and 7.4 cover the principles of general logic and propositional logic, respectively.\n",
    "   - Section 7.5 and 7.6 delve into the inference technologies in propositional logic.\n",
    "   - Section 7.7 combines knowledge-based agent concepts with propositional logic technologies, applying them to the wumpus world scenario."
   ]
  },
  {
   "cell_type": "markdown",
   "metadata": {},
   "source": [
    "## 7.1 Knowledge-Based Agents\n",
    "\n",
    "\n",
    "- **Knowledge Base (KB)**: A central component of a knowledge-based agent, storing all the knowledge the agent has. It contains a set of sentences, each representing a piece of knowledge.\n",
    "- **Sentence in Knowledge Base**: Sentences are the specific statements or assertions in a knowledge representation language, forming the content of the knowledge base. They express facts, rules, and relationships about the world.\n",
    "- **Knowledge Representation Language**: A formal language used to encode the sentences in the knowledge base. This language must be expressive enough to capture relevant knowledge and allow for effective reasoning.\n",
    "- **Axiom**: An axiom is a sentence that is assumed to be true within the knowledge base. It serves as a fundamental truth from which other knowledge is derived.\n",
    "- **Inference**: The process of deriving new sentences or conclusions from the existing knowledge base. Inference is essential for agents to make decisions or predictions based on their knowledge.\n",
    "- **Background Knowledge**: Refers to the general, domain-independent knowledge incorporated into the knowledge base, enabling the agent to function effectively in diverse scenarios.\n",
    "- **Knowledge Level vs. Implementation Level**:\n",
    "   - **Knowledge Level**: Concerned with what knowledge is represented and how it's used in reasoning.\n",
    "   - **Implementation Level**: Focuses on how the knowledge is actually stored, accessed, and manipulated within the system.\n",
    "\n",
    "### **Declarative vs. Procedural Approach**:\n",
    "\n",
    "\n",
    "- **Declarative Approach**: In knowledge-based systems, this approach focuses on 'what' knowledge is represented. The emphasis is on the representation of knowledge as facts or axioms in a knowledge base.\n",
    "- **Procedural Approach**: Contrasts with the declarative approach by focusing on 'how' knowledge is used. It emphasizes procedures or algorithms that manipulate or reason with the knowledge, often leading to more efficient systems but at the cost of flexibility and generality found in declarative systems."
   ]
  },
  {
   "cell_type": "markdown",
   "metadata": {},
   "source": [
    "## 7.2 The Wumpus World\n",
    "\n",
    "- **Description of the Wumpus World**: The Wumpus World is a cave environment presented as a 4x4 grid of rooms interconnected by passageways. Key elements include:\n",
    "   - A dangerous creature called the wumpus, which can eat agents entering its room.\n",
    "   - Bottomless pits in some rooms, posing a threat to agents (but not the wumpus).\n",
    "   - A heap of gold as a reward within the cave.\n",
    "\n",
    "### **Performance Measure**:\n",
    "\n",
    "\n",
    "- Gaining +1000 points for successfully exiting the cave with the gold.\n",
    "- Losing -1000 points for falling into a pit or being eaten by the wumpus.\n",
    "- A penalty of -1 point for each action taken and -10 for using the only arrow available.\n",
    "\n",
    "### **Environment**:\n",
    "\n",
    "\n",
    "- The cave is structured as a 4×4 grid surrounded by walls.\n",
    "- The agent starts at [1,1], facing east.\n",
    "- Random distribution of the gold and the wumpus in squares other than the start.\n",
    "- Each square (except the start) may contain a pit with a 20% probability.\n",
    "\n",
    "### **Actuators**:\n",
    "\n",
    "\n",
    "- The agent can move forward, turn left or right by 90 degrees.\n",
    "- It can grab gold, shoot an arrow, or climb out of the cave.\n",
    "- Restrictions include only one arrow available and safe exit only from square [1,1].\n",
    "\n",
    "### **Sensors and Perceptions**:\n",
    "\n",
    "\n",
    "- Stench near the wumpus.\n",
    "- Breeze near a pit.\n",
    "- Glitter where the gold is.\n",
    "- Bump when walking into a wall.\n",
    "- Scream heard throughout the cave upon the wumpus's death.\n",
    "- Percepts provided as a list of symbols indicating the presence or absence of these elements.\n",
    "\n",
    "**Logical Reasoning**: The chapter emphasizes the use of logical reasoning in the Wumpus World. Agents can draw guaranteed correct conclusions from the available information, illustrating fundamental properties of logical reasoning. The chapter proceeds to explain the construction of logical agents capable of representing information and making such deductions."
   ]
  },
  {
   "cell_type": "markdown",
   "metadata": {},
   "source": [
    "<img src=\"https://github.com/ValRCS/RBS_PBM773_Introduction_to_AI/blob/main/img/ch7_logical_agents/wumpus_world.jpg?raw=true\" alt=\"wumpus world\" width=\"400\">\n",
    "\n",
    "A typical wumpus world. The agent is in the bottom left corner [1,1], facing east\n",
    "(rightward)."
   ]
  },
  {
   "cell_type": "markdown",
   "metadata": {},
   "source": []
  },
  {
   "cell_type": "markdown",
   "metadata": {},
   "source": []
  },
  {
   "cell_type": "code",
   "execution_count": null,
   "metadata": {},
   "outputs": [],
   "source": []
  }
 ],
 "metadata": {
  "language_info": {
   "name": "python"
  }
 },
 "nbformat": 4,
 "nbformat_minor": 2
}
