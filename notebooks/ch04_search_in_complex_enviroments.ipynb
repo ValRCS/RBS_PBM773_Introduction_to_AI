{
 "cells": [
  {
   "cell_type": "markdown",
   "metadata": {},
   "source": [
    "# Chapter 4 - Search in Complex Environments\n",
    "\n",
    "We have seen how to search in simple environments, where the agent addressed problems in fully observable, deterministic, static, known environments.\n",
    "\n",
    "Today we  will also see how to search in environments where the agent does not have complete information about the environment."
   ]
  },
  {
   "cell_type": "code",
   "execution_count": null,
   "metadata": {},
   "outputs": [],
   "source": []
  }
 ],
 "metadata": {
  "language_info": {
   "name": "python"
  }
 },
 "nbformat": 4,
 "nbformat_minor": 2
}
