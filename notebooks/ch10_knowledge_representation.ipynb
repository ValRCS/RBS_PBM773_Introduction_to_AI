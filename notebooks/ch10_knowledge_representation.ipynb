{
 "cells": [
  {
   "cell_type": "markdown",
   "metadata": {},
   "source": [
    "# Chapter 10: KNOWLEDGE REPRESENTATION\n",
    "\n",
    "*In which we show how to represent diverse facts about the real world in a form that can be\n",
    "used to reason and solve problems* - Artificial Intelligence: A Modern Approach 4th Edition by Stuart Russell and Peter Norvig"
   ]
  },
  {
   "cell_type": "markdown",
   "metadata": {},
   "source": [
    "## Introduction \n",
    "\n",
    "- The chapter focuses on how to represent diverse facts about the real world in a form that supports reasoning and problem-solving.\n",
    "- It emphasizes the importance of the content within an agent's knowledge base, exploring how to represent world facts effectively.\n",
    "- First-order logic is introduced as the primary representation language, with later chapters expanding into other formalisms such as hierarchical task networks, Bayesian networks, Markov models, and deep neural networks for various reasoning contexts.\n",
    "- The concept of a general ontology is introduced, organizing the world into a hierarchy of categories, which is fundamental for structuring knowledge bases. \n",
    "- Key sections cover:\n",
    "- Basic categories of objects, substances, and measures (Section 10.2).\n",
    "- Events and how they are represented (Section 10.3).\n",
    "- Knowledge about beliefs and how agents manage belief states (Section 10.4).\n",
    "- The chapter also discusses technologies and systems designed for efficient inference, including reasoning with categories and default information."
   ]
  },
  {
   "cell_type": "markdown",
   "metadata": {},
   "source": [
    "### 10.1 Ontological Engineering\n",
    "- Ontological engineering involves creating representations for abstract concepts like Events, Time, Physical Objects, and Beliefs, crucial for complex domains like internet shopping or autonomous driving.\n",
    "- The text highlights the importance of a flexible, general representation framework, termed an \"upper ontology,\" which organizes concepts from general to specific.\n",
    "- This approach allows for placeholders for domain-specific knowledge, analogous to object-oriented programming frameworks, facilitating later specification of detailed object types.\n",
    "- Despite using first-order logic (FOL) for discussing knowledge organization, the text acknowledges FOL's limitations in capturing real-world nuances, like exceptions to general rules.\n",
    "- The utility of an upper ontology is illustrated with examples from circuits and the wumpus world, showing how a more general ontology accommodates more detailed and dynamic representations.\n",
    "- General-purpose ontologies aim to be applicable across domains, requiring unification of knowledge areas and flexible representation capable of handling diverse specifics.\n",
    "- The creation of ontologies faces challenges due to social and political considerations, with success varying across applications. Most top AI applications use specialized knowledge engineering rather than general ontologies.\n",
    "- The development of ontologies can follow different paths, including expert construction, importing from existing databases, text parsing, or crowdsourcing, with examples like the CYC system, DBpedia, TextRunner, and the Open Mind initiative.\n",
    "- The Google Knowledge Graph is presented as a case of using semi-structured content from Wikipedia, enhanced by other web sources and human curation, to provide a vast repository of facts used in search queries."
   ]
  },
  {
   "cell_type": "markdown",
   "metadata": {},
   "source": []
  },
  {
   "cell_type": "markdown",
   "metadata": {},
   "source": []
  },
  {
   "cell_type": "markdown",
   "metadata": {},
   "source": []
  }
 ],
 "metadata": {
  "kernelspec": {
   "display_name": "Python 3",
   "language": "python",
   "name": "python3"
  },
  "language_info": {
   "name": "python",
   "version": "3.11.4"
  }
 },
 "nbformat": 4,
 "nbformat_minor": 2
}
