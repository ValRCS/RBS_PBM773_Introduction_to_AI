{
 "cells": [
  {
   "cell_type": "markdown",
   "metadata": {},
   "source": [
    "# Topic 6 - Constraint Satisfaction Problems\n",
    "\n",
    "Chapter 6 of \"Artificial Intelligence: A Modern Approach\" by Peter Norvig and Stuart Russell, in its 4th edition, focuses on Constraint Satisfaction Problems (CSPs).This notebook contains a summary of the chapter.\n",
    "\n",
    "Note: In global edition of the book, the chapter is Chapter 5."
   ]
  },
  {
   "cell_type": "markdown",
   "metadata": {},
   "source": [
    "## Introduction\n",
    "\n",
    "- **State Space Search in Previous Chapters**: The introduction highlights that earlier chapters discussed problem-solving through state space search, where the state space is a graph with states as nodes and actions as edges connecting them.\n",
    "- **Limitations of State Space Search**: It notes that in state space search, each state is atomic or indivisible, lacking internal structure. This approach requires domain-specific heuristics and code for transitioning between states.\n",
    "- **Introduction to Factored Representation**: This chapter introduces a new concept, where states are represented in a factored way, meaning each state is made up of a set of variables, each with its own value.\n",
    "- **Definition of CSP**: A problem becomes a Constraint Satisfaction Problem (CSP) when the goal is to assign values to each variable such that all constraints on the variables are satisfied.\n",
    "- **Advantages of CSP Search Algorithms**: CSP search algorithms leverage the structured nature of states, employing general heuristics rather than domain-specific ones, allowing for the solution of more complex problems.\n",
    "- **Efficiency in CSPs**: CSPs are efficient because they can eliminate large parts of the search space by identifying combinations of variables and values that violate constraints.\n",
    "- **Inherent Deduction of Actions and Transitions**: In CSPs, the actions and transition model can be deduced from the problem description itself, which is an advantage over the state space search where these need to be defined explicitly.\n"
   ]
  },
  {
   "cell_type": "markdown",
   "metadata": {},
   "source": [
    "## 6.1 Defining Constraint Satisfaction Problems\n",
    "\n",
    "TODO: Add picture of CSP formal definition\n",
    "![CSP](images/csp.png)\n",
    "\n",
    "- **Relation**: In the context of CSPs, a relation is a set of tuples that defines allowable combinations of values for a subset of variables. It's a way to express constraints, specifying which variable combinations are valid.\n",
    "- **Assignments**: An assignment is the process of assigning values to variables. In CSPs, assignments must be made respecting the constraints of the problem.\n",
    "- **Consistency**: This refers to the adherence of assignments to the constraints. An assignment is consistent if it does not violate any of the constraints of the CSP.\n",
    "- **Complete Assignment**: A complete assignment occurs when every variable in the CSP has been assigned a value. This does not necessarily mean that the assignment is a solution, as it must also be consistent.\n",
    "- **Solution**: A solution to a CSP is a complete assignment that is consistent - meaning it satisfies all the specified constraints. Finding a solution is the primary goal in solving a CSP.\n",
    "- **Partial Assignment**: This is an assignment where only some of the variables in the CSP have been assigned values. Partial assignments can be steps in the process of finding a complete solution.\n",
    "- **Partial Solution**: A partial solution is a partial assignment that is consistent with the constraints of the CSP. It's a potentially viable step towards a complete solution, as it doesn't violate any constraints."
   ]
  },
  {
   "cell_type": "markdown",
   "metadata": {},
   "source": []
  }
 ],
 "metadata": {
  "language_info": {
   "name": "python"
  }
 },
 "nbformat": 4,
 "nbformat_minor": 2
}
