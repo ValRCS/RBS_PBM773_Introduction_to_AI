{
 "cells": [
  {
   "cell_type": "markdown",
   "metadata": {},
   "source": [
    "# Topic 6 - Constraint Satisfaction Problems\n",
    "\n",
    "Chapter 6 of \"Artificial Intelligence: A Modern Approach\" by Peter Norvig and Stuart Russell, in its 4th edition, focuses on Constraint Satisfaction Problems (CSPs).This notebook contains a summary of the chapter.\n",
    "\n",
    "Note: In global edition of the book, the chapter is Chapter 5."
   ]
  },
  {
   "cell_type": "markdown",
   "metadata": {},
   "source": [
    "## Introduction\n",
    "\n",
    "- **State Space Search in Previous Chapters**: The introduction highlights that earlier chapters discussed problem-solving through state space search, where the state space is a graph with states as nodes and actions as edges connecting them.\n",
    "- **Limitations of State Space Search**: It notes that in state space search, each state is atomic or indivisible, lacking internal structure. This approach requires domain-specific heuristics and code for transitioning between states.\n",
    "- **Introduction to Factored Representation**: This chapter introduces a new concept, where states are represented in a factored way, meaning each state is made up of a set of variables, each with its own value.\n",
    "- **Definition of CSP**: A problem becomes a Constraint Satisfaction Problem (CSP) when the goal is to assign values to each variable such that all constraints on the variables are satisfied.\n",
    "- **Advantages of CSP Search Algorithms**: CSP search algorithms leverage the structured nature of states, employing general heuristics rather than domain-specific ones, allowing for the solution of more complex problems.\n",
    "- **Efficiency in CSPs**: CSPs are efficient because they can eliminate large parts of the search space by identifying combinations of variables and values that violate constraints.\n",
    "- **Inherent Deduction of Actions and Transitions**: In CSPs, the actions and transition model can be deduced from the problem description itself, which is an advantage over the state space search where these need to be defined explicitly.\n"
   ]
  },
  {
   "cell_type": "markdown",
   "metadata": {},
   "source": [
    "## 6.1 Defining Constraint Satisfaction Problems\n",
    "\n",
    "TODO: Add picture of CSP formal definition\n",
    "![CSP](images/csp.png)\n",
    "\n",
    "- **Relation**: In the context of CSPs, a relation is a set of tuples that defines allowable combinations of values for a subset of variables. It's a way to express constraints, specifying which variable combinations are valid.\n",
    "- **Assignments**: An assignment is the process of assigning values to variables. In CSPs, assignments must be made respecting the constraints of the problem.\n",
    "- **Consistency**: This refers to the adherence of assignments to the constraints. An assignment is consistent if it does not violate any of the constraints of the CSP.\n",
    "- **Complete Assignment**: A complete assignment occurs when every variable in the CSP has been assigned a value. This does not necessarily mean that the assignment is a solution, as it must also be consistent.\n",
    "- **Solution**: A solution to a CSP is a complete assignment that is consistent - meaning it satisfies all the specified constraints. Finding a solution is the primary goal in solving a CSP.\n",
    "- **Partial Assignment**: This is an assignment where only some of the variables in the CSP have been assigned values. Partial assignments can be steps in the process of finding a complete solution.\n",
    "- **Partial Solution**: A partial solution is a partial assignment that is consistent with the constraints of the CSP. It's a potentially viable step towards a complete solution, as it doesn't violate any constraints."
   ]
  },
  {
   "cell_type": "markdown",
   "metadata": {},
   "source": [
    "![Australia Map Coloring](https://upload.wikimedia.org/wikipedia/commons/thumb/d/d7/Australia_states_territories.svg/1200px-Australia_states_territories.svg.png?20220424132857)"
   ]
  },
  {
   "cell_type": "markdown",
   "metadata": {},
   "source": [
    "### 6.1.1 Example problem: Map coloring\n",
    "\n",
    "- **The Map Coloring Problem**: The example involves coloring the states of Australia's map such that no two adjacent states have the same color.\n",
    "- **Variables and Domains**: Each state in the map (like Western Australia, Northern Territory, South Australia, etc.) represents a variable. The domain for each variable is the set of colors that can be used for coloring (e.g., red, green, blue).\n",
    "- **Constraints**: The primary constraint is that no two neighboring states can share the same color. For instance, if Western Australia is colored red, then its neighboring states cannot be colored red.\n",
    "- **Constraint Graph Visualization**: The concept of a constraint graph is introduced as a useful tool for visualizing CSPs. In the map coloring example, the states are represented as nodes in the graph, and edges connect nodes (states) that share a boundary. This graphically represents the constraints (adjacent states cannot be the same color).\n",
    "- **Solving the CSP**: The task is to find a coloring of the map where all constraints are satisfied. This means assigning colors to each state such that no two adjacent states share the same color.\n",
    "\n",
    "Note: Map Coloring problem is famous, and has been solved for 4 colors. It's also known as the Four Color Theorem. The proof of the theorem was one of the first uses of a computer-assisted proof.\n",
    "Src: https://en.wikipedia.org/wiki/Four_color_theorem"
   ]
  },
  {
   "cell_type": "markdown",
   "metadata": {},
   "source": [
    "![coloring graph](https://github.com/ValRCS/RBS_PBM773_Introduction_to_AI/blob/main/img/ch6_constraint_satisfaction_problem/australia_graph.jpg?raw=true)"
   ]
  },
  {
   "cell_type": "markdown",
   "metadata": {},
   "source": [
    "### 6.1.2 Example problem: Job-shop scheduling\n",
    "\n",
    "- **Job-shop Scheduling Problem Overview**: This problem involves scheduling a set of jobs, each consisting of a sequence of tasks, on a set of machines. The goal is to complete all jobs within the shortest possible time without violating any constraints.\n",
    "- **Variables and Domains**: In this CSP, each variable represents a task, and the domain of each variable is the possible start times for that task. The complexity arises from the constraints imposed on these start times.\n",
    "- **Precedence Constraint**: This constraint ensures that the sequence of tasks within a job is maintained. For example, if a job consists of tasks A and B in that order, task B cannot start until task A is completed. These constraints are critical to maintaining the correct order of operations within each job.\n",
    "- **Disjunctive Constraint**: Disjunctive constraints relate to the use of machines. Since each machine can only handle one task at a time, disjunctive constraints ensure that two tasks requiring the same machine are not scheduled simultaneously. This constraint is necessary to manage resource allocation and avoid conflicts in machine usage.\n",
    "- **Objective**: The primary objective in the job-shop scheduling problem is to minimize the overall completion time, known as the makespan. This involves finding an assignment of start times to all tasks that respects both the precedence and disjunctive constraints, while also aiming for efficiency.\n",
    "\n",
    "The job-shop scheduling problem is a complex CSP that illustrates the use of different types of constraints (precedence and disjunctive) in a real-world scenario. It highlights the challenges in resource allocation and scheduling, where the goal is not only to find a feasible solution but also to optimize a specific outcome (minimizing completion time)."
   ]
  },
  {
   "cell_type": "markdown",
   "metadata": {},
   "source": [
    "### 6.1.3 Variations on the CSP formalism\n",
    "\n",
    "- **Discrete, Finite Domains**: The simplest kind of CSP involves variables that have discrete, finite domains, meaning each variable can take on a limited number of distinct values.\n",
    "- **Infinite Domains**: CSPs can also involve variables with infinite domains, such as the set of all integers or all real numbers. This introduces additional complexity in finding solutions.\n",
    "- **Linear and Nonlinear Constraints**: CSPs can include linear constraints (where the relationship between variables is linear) and nonlinear constraints (where the relationship is nonlinear), broadening the types of problems that can be modeled.\n",
    "- **Continuous Domains**: Some CSPs involve continuous domains, where variables can take any value within a certain range, often leading to problems that require different solution techniques compared to discrete domains.\n",
    "- **Unary and Binary Constraints, Binary CSPs**: Unary constraints involve a single variable, whereas binary constraints involve two variables. A binary CSP is one where all constraints are binary. These are particularly well-studied and form the basis of many CSP-solving techniques.\n",
    "- **Global Constraints**: These are constraints that involve a large number of variables. Global constraints are useful for expressing complex relationships in a concise way and can often be handled more efficiently than a large set of simpler constraints.\n",
    "- **Cryptarithmetic Puzzle Example**: A cryptarithmetic puzzle is an example that can be represented as a constraint hypergraph, where each letter represents a different digit, and the goal is to assign digits to letters to satisfy the arithmetic equation.\n",
    "- **Dual Graph Transformation**: This technique involves transforming the original CSP into a dual graph, where nodes represent constraints and edges represent shared variables. This can be useful for certain solution techniques.\n",
    "- **Preference Constraints in Real-World CSPs**: In real-world problems, constraints often come with preferences, indicating that some solutions are better than others, even though both satisfy all constraints.\n",
    "- **Constrained Optimization Problem (COP)**: A COP is a type of problem where the goal is not just to find any solution that satisfies the constraints, but to find the best solution according to some criteria. This involves optimization in addition to satisfying constraints.\n",
    "\n",
    "This section highlights the flexibility and breadth of CSPs, showing how they can be adapted to a wide range of problem types, from simple puzzles to complex, real-world scheduling and optimization problems."
   ]
  },
  {
   "cell_type": "markdown",
   "metadata": {},
   "source": [
    "## 6.2 Constraint Propagation: Inference in CSPs. \n",
    "\n",
    "- **Constraint Propagation Overview**: Constraint propagation is a technique used in solving CSPs that systematically reduces the search space by ruling out impossible values for variables based on the constraints. It simplifies the problem before or during the search for a solution.\n",
    "- **Key Idea of Local Consistency**: The central concept behind constraint propagation is achieving local consistency. Local consistency involves ensuring that the constraints are satisfied locally (i.e., within a small subset of variables) which can often lead to simplifications in the overall problem.\n",
    "- **Types of Local Consistency**:\n",
    "\n",
    "### 6.2.1 **Node Consistency**: \n",
    "\n",
    "Ensuring each variable individually satisfies its unary constraints.\n",
    "\n",
    "### 6.2.2 **Arc Consistency**: \n",
    "\n",
    "This involves checking pairs of variables and ensuring for every value in one variable, there is a consistent value in the connected variable. A common method to achieve arc consistency is AC-3 algorithm.\n",
    "\n",
    "### 6.2.3 **Path Consistency**: \n",
    "\n",
    "Ensuring consistency among triples of variables. This level of consistency checks that for every pair of values in two variables, there is a consistent value in the third variable for all combinations.\n",
    "\n",
    "* **Domain Reduction** : Through constraint propagation, the domains of variables can be reduced. When a value in a domain is found inconsistent with the constraints, it is removed, thus narrowing the set of possibilities to consider.\n",
    "\n",
    "* **Iterative Process** : Constraint propagation is typically an iterative process, where achieving consistency in one part of the CSP can lead to inconsistencies elsewhere, requiring multiple passes until no more reductions can be made.\n",
    "\n",
    "* **Reduction to a Simpler Problem**: By applying constraint propagation, a CSP can often be reduced to a simpler problem, making it easier to solve with search algorithms.\n",
    "\n",
    "* **Balancing Complexity and Benefit**: While constraint propagation can significantly reduce the problem size, achieving higher levels of consistency (like path consistency) can be computationally expensive. The choice of which level of consistency to enforce often balances the computational cost against the benefit in problem simplification.\n",
    "\n",
    "Constraint propagation is a powerful tool in the CSP solving process, enabling more efficient search by reducing the search space and often leading to simpler, more manageable problems."
   ]
  },
  {
   "cell_type": "markdown",
   "metadata": {},
   "source": []
  },
  {
   "cell_type": "markdown",
   "metadata": {},
   "source": []
  },
  {
   "cell_type": "markdown",
   "metadata": {},
   "source": []
  },
  {
   "cell_type": "markdown",
   "metadata": {},
   "source": []
  }
 ],
 "metadata": {
  "language_info": {
   "name": "python"
  }
 },
 "nbformat": 4,
 "nbformat_minor": 2
}
