{
 "cells": [
  {
   "cell_type": "markdown",
   "metadata": {},
   "source": [
    "# Elo rating simulation\n",
    "\n",
    "## Introduction\n",
    "\n",
    "Elo rating system is a method for calculating the relative skill levels of players in two-player games such as chess. It is named after its creator Arpad Elo, a Hungarian-American physics professor. The Elo system was invented as an improved chess rating system over the previously used Harkness system, but is also used as a rating system for multiplayer competition in a number of video games, association football, American football, basketball, Major League Baseball, table tennis, board games such as Scrabble and Diplomacy, and other games.\n",
    "\n",
    "## Idea of the simulation\n",
    "\n",
    "The idea of the simulation is to simulate the Elo rating system for a set of players.\n",
    "\n",
    "We will have some players with some ratings and we will simulate some games between them. After each game, the ratings of the players will be updated according to the result of the game.\n",
    "\n"
   ]
  },
  {
   "cell_type": "code",
   "execution_count": 2,
   "metadata": {},
   "outputs": [],
   "source": [
    "# we will store our players as dictionaries\n",
    "players = {\n",
    "    \"Alice\": 1000,\n",
    "    \"Bob\": 2000,\n",
    "    \"Carol\": 2500,\n",
    "    \"David\": 2200,\n",
    "    \"Eve\": 1800\n",
    "}\n",
    "\n",
    "# now we need a function that estimates the result of a game given two player ratings\n",
    "def estimate_result(player1, player2, K=10):\n",
    "    \"\"\"\n",
    "    Estimates the result of a game between two players using the Elo rating system.\n",
    "    K is the maximum possible change in rating.\n",
    "    \"\"\"\n",
    "    return 1 / (1 + K ** ((player2 - player1) / 400)) # TODO lookup the formula for the Elo rating system\n",
    "    # if you think about if players are equally matched then the difference is 0 and 1/(1+10^0) = 1/2\n",
    "    # if the difference is 400 then 1/(1+10^1) = 1/11\n",
    "    # if difference is 800 then 1/(1+10^2) = 1/101\n",
    "\n",
    "# we need a function that uses random to simulate a game\n",
    "import random\n",
    "def simulate_win_lose_game(player1, player2):\n",
    "    return random.random() < estimate_result(player1, player2)\n",
    "\n",
    "# # we also want to simulate a draw\n",
    "# def simulate_draw_game(player1, player2):\n",
    "#     return random.random() < 0.5"
   ]
  },
  {
   "cell_type": "code",
   "execution_count": 12,
   "metadata": {},
   "outputs": [
    {
     "name": "stdout",
     "output_type": "stream",
     "text": [
      "Alice: 1000 scored 0 points\n",
      "Bob: 2000 scored 3 points\n",
      "Carol: 2500 scored 4 points\n",
      "David: 2200 scored 1 points\n",
      "Eve: 1800 scored 2 points\n"
     ]
    }
   ],
   "source": [
    "# let's run a simulation of everyone playing everyone else\n",
    "def simulate_round_robin(players, robins=1, debug=False):\n",
    "    scores = {player:0 for player in players}\n",
    "    for robin in range(robins):\n",
    "        for player1 in players:\n",
    "            for player2 in players:\n",
    "                # if player1 != player2:# this would give us two rounds\n",
    "                if player1 < player2: # single round robin\n",
    "                    if simulate_win_lose_game(players[player1], players[player2]):\n",
    "                        if debug:\n",
    "                            print(f\"{player1} wins against {player2}\")\n",
    "                        scores[player1] += 1\n",
    "                        # players[player1] += 10\n",
    "                        # players[player2] -= 10\n",
    "                    else:\n",
    "                        if debug:\n",
    "                            print(f\"{player1} loses against {player2}\")\n",
    "                        scores[player2] += 1\n",
    "                        # players[player1] -= 10\n",
    "                        # players[player2] += 10\n",
    "                # else: # you are not going to draw against yourself ....\n",
    "                #     print(f\"{player1} draws against {player2}\")\n",
    "    return scores\n",
    "\n",
    "# let's do one round robin\n",
    "scores = simulate_round_robin(players)\n",
    "# print(scores)\n",
    "# print ratings\n",
    "def print_ratings(players, scores):\n",
    "    for player in players:\n",
    "        print(f\"{player}: {players[player]} scored {scores[player]} points\")\n",
    "print_ratings(players, scores)"
   ]
  },
  {
   "cell_type": "code",
   "execution_count": 13,
   "metadata": {},
   "outputs": [
    {
     "name": "stdout",
     "output_type": "stream",
     "text": [
      "Alice: 1000 scored 1 points\n",
      "Bob: 2000 scored 209 points\n",
      "Carol: 2500 scored 381 points\n",
      "David: 2200 scored 276 points\n",
      "Eve: 1800 scored 133 points\n"
     ]
    }
   ],
   "source": [
    "# let's make them play blitz all night so let's 100 round robins so that is 400 games each\n",
    "scores = simulate_round_robin(players, robins=100)\n",
    "print_ratings(players, scores)"
   ]
  },
  {
   "cell_type": "code",
   "execution_count": 14,
   "metadata": {},
   "outputs": [
    {
     "name": "stdout",
     "output_type": "stream",
     "text": [
      "Alice: 1000 scored 1 points\n",
      "Bob: 2000 scored 515 points\n",
      "Carol: 2500 scored 946 points\n",
      "David: 2200 scored 708 points\n",
      "Eve: 1800 scored 330 points\n"
     ]
    }
   ],
   "source": [
    "# let's make 250 round robins so that is 1000 games each\n",
    "scores = simulate_round_robin(players, robins=250)\n",
    "print_ratings(players, scores)"
   ]
  },
  {
   "cell_type": "code",
   "execution_count": null,
   "metadata": {},
   "outputs": [],
   "source": [
    "## TODO add tracking of invididual player vs player scores\n",
    "## TODO add tracking to see how the ratings change over time\n",
    "## TODO add tracking of the average rating of the players"
   ]
  }
 ],
 "metadata": {
  "kernelspec": {
   "display_name": "Python 3",
   "language": "python",
   "name": "python3"
  },
  "language_info": {
   "codemirror_mode": {
    "name": "ipython",
    "version": 3
   },
   "file_extension": ".py",
   "mimetype": "text/x-python",
   "name": "python",
   "nbconvert_exporter": "python",
   "pygments_lexer": "ipython3",
   "version": "3.11.4"
  }
 },
 "nbformat": 4,
 "nbformat_minor": 2
}
